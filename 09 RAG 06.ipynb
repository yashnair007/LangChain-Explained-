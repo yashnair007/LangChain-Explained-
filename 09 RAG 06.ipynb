{
 "cells": [
  {
   "cell_type": "markdown",
   "id": "70824d07",
   "metadata": {},
   "source": [
    "# Indexing: Document Loading with PyPDF Loader"
   ]
  },
  {
   "cell_type": "code",
   "execution_count": null,
   "id": "f47d199c-bb97-42f9-a4bc-beeb558d9c27",
   "metadata": {},
   "outputs": [],
   "source": [
    "# Run the line of code below to check the version of langchain in the current environment.\n",
    "# Substitute \"langchain\" with any other package name to check their version."
   ]
  },
  {
   "cell_type": "code",
   "execution_count": null,
   "id": "d04a1b78-bfd9-4726-9f85-365603d739c5",
   "metadata": {},
   "outputs": [],
   "source": [
    "pip show langchain"
   ]
  },
  {
   "cell_type": "code",
   "execution_count": null,
   "id": "df7501fe",
   "metadata": {},
   "outputs": [],
   "source": [
    "from langchain_community.document_loaders import PyPDFLoader\n",
    "import copy"
   ]
  },
  {
   "cell_type": "code",
   "execution_count": null,
   "id": "1224f077",
   "metadata": {},
   "outputs": [],
   "source": [
    "loader_pdf = PyPDFLoader(\"Introduction_to_Data_and_Data_Science.pdf\")"
   ]
  },
  {
   "cell_type": "code",
   "execution_count": null,
   "id": "6e81467d",
   "metadata": {},
   "outputs": [],
   "source": [
    "pages_pdf = loader_pdf.load()"
   ]
  },
  {
   "cell_type": "code",
   "execution_count": null,
   "id": "518243a3",
   "metadata": {
    "scrolled": true
   },
   "outputs": [],
   "source": [
    "pages_pdf"
   ]
  },
  {
   "cell_type": "code",
   "execution_count": null,
   "id": "5ce1297d",
   "metadata": {},
   "outputs": [],
   "source": [
    "pages_pdf_cut = copy.deepcopy(pages_pdf)"
   ]
  },
  {
   "cell_type": "code",
   "execution_count": null,
   "id": "5995bf67",
   "metadata": {},
   "outputs": [],
   "source": [
    "' '.join(pages_pdf_cut[0].page_content.split())"
   ]
  },
  {
   "cell_type": "code",
   "execution_count": null,
   "id": "891ec708",
   "metadata": {},
   "outputs": [],
   "source": [
    "for i in pages_pdf_cut:\n",
    "    i.page_content = ' '.join(i.page_content.split())"
   ]
  },
  {
   "cell_type": "code",
   "execution_count": null,
   "id": "02b51d1c",
   "metadata": {
    "scrolled": true
   },
   "outputs": [],
   "source": [
    "pages_pdf_cut"
   ]
  },
  {
   "cell_type": "code",
   "execution_count": null,
   "id": "cc769a2c",
   "metadata": {},
   "outputs": [],
   "source": [
    "pages_pdf[0].page_content, pages_pdf_cut[0].page_content"
   ]
  },
  {
   "cell_type": "code",
   "execution_count": null,
   "id": "6db48472",
   "metadata": {},
   "outputs": [],
   "source": []
  },
  {
   "cell_type": "code",
   "execution_count": null,
   "id": "1c4d636c",
   "metadata": {},
   "outputs": [],
   "source": []
  }
 ],
 "metadata": {
  "kernelspec": {
   "display_name": "langchain_env",
   "language": "python",
   "name": "langchain_env"
  },
  "language_info": {
   "codemirror_mode": {
    "name": "ipython",
    "version": 3
   },
   "file_extension": ".py",
   "mimetype": "text/x-python",
   "name": "python",
   "nbconvert_exporter": "python",
   "pygments_lexer": "ipython3",
   "version": "3.10.10"
  }
 },
 "nbformat": 4,
 "nbformat_minor": 5
}
