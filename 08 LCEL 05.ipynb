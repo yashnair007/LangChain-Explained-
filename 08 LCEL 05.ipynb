{
 "cells": [
  {
   "cell_type": "markdown",
   "id": "f249264a",
   "metadata": {},
   "source": [
    "# Piping Chains and the RunnablePassthrough Class"
   ]
  },
  {
   "cell_type": "code",
   "execution_count": null,
   "id": "5b46f7f6-83a9-47e4-9afa-0c5fb8049153",
   "metadata": {},
   "outputs": [],
   "source": [
    "# Run the line of code below to check the version of langchain in the current environment.\n",
    "# Substitute \"langchain\" with any other package name to check their version."
   ]
  },
  {
   "cell_type": "code",
   "execution_count": null,
   "id": "e55eecd9-ddaa-4e27-a385-aee9ee4d292d",
   "metadata": {},
   "outputs": [],
   "source": [
    "pip show langchain"
   ]
  },
  {
   "cell_type": "code",
   "execution_count": null,
   "id": "46f2064c",
   "metadata": {},
   "outputs": [],
   "source": [
    "%load_ext dotenv\n",
    "%dotenv"
   ]
  },
  {
   "cell_type": "code",
   "execution_count": null,
   "id": "229e6a94",
   "metadata": {},
   "outputs": [],
   "source": [
    "from langchain_core.prompts import ChatPromptTemplate\n",
    "from langchain_openai import ChatOpenAI\n",
    "from langchain_core.output_parsers import StrOutputParser\n",
    "from langchain_core.runnables import RunnablePassthrough"
   ]
  },
  {
   "cell_type": "code",
   "execution_count": null,
   "id": "bef54a9c",
   "metadata": {},
   "outputs": [],
   "source": [
    "RunnablePassthrough().invoke([1, 2, 3])"
   ]
  },
  {
   "cell_type": "code",
   "execution_count": null,
   "id": "3adc8eaf",
   "metadata": {},
   "outputs": [],
   "source": [
    "chat_template_tools = ChatPromptTemplate.from_template('''\n",
    "What are the five most important tools a {job title} needs?\n",
    "Answer only by listing the tools.\n",
    "''')\n",
    "\n",
    "chat_template_strategy = ChatPromptTemplate.from_template('''\n",
    "Considering the tools provided, develop a strategy for effectively learning and mastering them:\n",
    "{tools}\n",
    "''')"
   ]
  },
  {
   "cell_type": "code",
   "execution_count": null,
   "id": "b1789759",
   "metadata": {},
   "outputs": [],
   "source": [
    "chat_template_tools"
   ]
  },
  {
   "cell_type": "code",
   "execution_count": null,
   "id": "3cda9404",
   "metadata": {},
   "outputs": [],
   "source": [
    "chat = ChatOpenAI(model_name = 'gpt-4', \n",
    "                  model_kwargs = {'seed':365},\n",
    "                  temperature = 0,\n",
    "                  max_tokens = 100)"
   ]
  },
  {
   "cell_type": "code",
   "execution_count": null,
   "id": "bc537a26",
   "metadata": {},
   "outputs": [],
   "source": [
    "string_parser = StrOutputParser()"
   ]
  },
  {
   "cell_type": "code",
   "execution_count": null,
   "id": "94772379",
   "metadata": {},
   "outputs": [],
   "source": [
    "chain_tools = (chat_template_tools | chat | string_parser | {'tools':RunnablePassthrough()})\n",
    "chain_strategy = chat_template_strategy | chat | string_parser"
   ]
  },
  {
   "cell_type": "code",
   "execution_count": null,
   "id": "08b19e51",
   "metadata": {},
   "outputs": [],
   "source": [
    "print(chain_tools.invoke({'job title':'data scientist'}))"
   ]
  },
  {
   "cell_type": "code",
   "execution_count": null,
   "id": "f5bdeed6",
   "metadata": {},
   "outputs": [],
   "source": [
    "print(chain_strategy.invoke({'tools':'''\n",
    "1. Python\n",
    "2. R Programming\n",
    "3. SQL\n",
    "4. Tableau\n",
    "5. Hadoop\n",
    "'''}))"
   ]
  },
  {
   "cell_type": "code",
   "execution_count": null,
   "id": "25a4452f",
   "metadata": {},
   "outputs": [],
   "source": [
    "chain_combined = chain_tools | chain_strategy"
   ]
  },
  {
   "cell_type": "code",
   "execution_count": null,
   "id": "0d24d012",
   "metadata": {},
   "outputs": [],
   "source": [
    "print(chain_combined.invoke({'job title':'data scientist'}))"
   ]
  },
  {
   "cell_type": "code",
   "execution_count": null,
   "id": "6236a709",
   "metadata": {},
   "outputs": [],
   "source": [
    "chain_long = (chat_template_tools | chat | string_parser | {'tools':RunnablePassthrough()} | \n",
    "              chat_template_strategy | chat | string_parser)"
   ]
  },
  {
   "cell_type": "code",
   "execution_count": null,
   "id": "efb1ca0b",
   "metadata": {},
   "outputs": [],
   "source": []
  },
  {
   "cell_type": "code",
   "execution_count": null,
   "id": "fd4bb105",
   "metadata": {},
   "outputs": [],
   "source": []
  }
 ],
 "metadata": {
  "kernelspec": {
   "display_name": "langchain_env",
   "language": "python",
   "name": "langchain_env"
  },
  "language_info": {
   "codemirror_mode": {
    "name": "ipython",
    "version": 3
   },
   "file_extension": ".py",
   "mimetype": "text/x-python",
   "name": "python",
   "nbconvert_exporter": "python",
   "pygments_lexer": "ipython3",
   "version": "3.10.10"
  }
 },
 "nbformat": 4,
 "nbformat_minor": 5
}
