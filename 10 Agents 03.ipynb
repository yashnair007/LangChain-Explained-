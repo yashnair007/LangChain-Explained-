{
 "cells": [
  {
   "cell_type": "markdown",
   "id": "13b04cfe",
   "metadata": {},
   "source": [
    "# Creating a Wikipedia Tool and Piping It to a Chain"
   ]
  },
  {
   "cell_type": "code",
   "execution_count": null,
   "id": "b613cb3e-6c7f-4f17-ad05-896ec95327ab",
   "metadata": {},
   "outputs": [],
   "source": [
    "# Run the line of code below to check the version of langchain in the current environment.\n",
    "# Substitute \"langchain\" with any other package name to check their version."
   ]
  },
  {
   "cell_type": "code",
   "execution_count": null,
   "id": "8561712c-2a74-4ab0-8c23-bd811601f821",
   "metadata": {},
   "outputs": [],
   "source": [
    "pip show langchain"
   ]
  },
  {
   "cell_type": "code",
   "execution_count": null,
   "id": "9837f9ec",
   "metadata": {},
   "outputs": [],
   "source": [
    "%load_ext dotenv\n",
    "%dotenv"
   ]
  },
  {
   "cell_type": "code",
   "execution_count": null,
   "id": "5dacddd2",
   "metadata": {},
   "outputs": [],
   "source": [
    "from langchain_core.prompts import PromptTemplate\n",
    "from langchain_core.output_parsers import StrOutputParser\n",
    "\n",
    "from langchain_openai.chat_models import ChatOpenAI\n",
    "\n",
    "from langchain_community.utilities import WikipediaAPIWrapper\n",
    "from langchain_community.tools import WikipediaQueryRun"
   ]
  },
  {
   "cell_type": "code",
   "execution_count": null,
   "id": "f52027d0",
   "metadata": {},
   "outputs": [],
   "source": [
    "wikipedia_api = WikipediaAPIWrapper()"
   ]
  },
  {
   "cell_type": "code",
   "execution_count": null,
   "id": "d9c199cd",
   "metadata": {},
   "outputs": [],
   "source": [
    "print(wikipedia_api.run('Python'))"
   ]
  },
  {
   "cell_type": "code",
   "execution_count": null,
   "id": "93c49f33",
   "metadata": {},
   "outputs": [],
   "source": [
    "wikipedia_tool = WikipediaQueryRun(api_wrapper = wikipedia_api)"
   ]
  },
  {
   "cell_type": "code",
   "execution_count": null,
   "id": "c00ddc66",
   "metadata": {},
   "outputs": [],
   "source": [
    "wikipedia_tool.name"
   ]
  },
  {
   "cell_type": "code",
   "execution_count": null,
   "id": "1c72ab31",
   "metadata": {},
   "outputs": [],
   "source": [
    "wikipedia_tool.description"
   ]
  },
  {
   "cell_type": "code",
   "execution_count": null,
   "id": "b007e3a8",
   "metadata": {},
   "outputs": [],
   "source": [
    "wikipedia_tool.args"
   ]
  },
  {
   "cell_type": "code",
   "execution_count": null,
   "id": "b85e3f0f",
   "metadata": {},
   "outputs": [],
   "source": [
    "response = wikipedia_tool.invoke({'query':'Python'})"
   ]
  },
  {
   "cell_type": "code",
   "execution_count": null,
   "id": "bfc5b3ae",
   "metadata": {},
   "outputs": [],
   "source": [
    "print(response)"
   ]
  },
  {
   "cell_type": "code",
   "execution_count": null,
   "id": "c98b7f30",
   "metadata": {},
   "outputs": [],
   "source": [
    "wikipedia_tool.invoke('Python')"
   ]
  },
  {
   "cell_type": "code",
   "execution_count": null,
   "id": "16eb479d",
   "metadata": {},
   "outputs": [],
   "source": [
    "TEMPLATE = '''\n",
    "Turn the following user input into a Wikipedia search query. Don't answer the question:\n",
    "\n",
    "{input}\n",
    "'''\n",
    "\n",
    "prompt_template = PromptTemplate.from_template(template = TEMPLATE)"
   ]
  },
  {
   "cell_type": "code",
   "execution_count": null,
   "id": "71c4c96f",
   "metadata": {},
   "outputs": [],
   "source": [
    "chat = ChatOpenAI(model_name = 'gpt-4-0125-preview', \n",
    "                  temperature = 0,\n",
    "                  model_kwargs = {'seed':365})"
   ]
  },
  {
   "cell_type": "code",
   "execution_count": null,
   "id": "67639a43",
   "metadata": {},
   "outputs": [],
   "source": [
    "chain = prompt_template | chat | StrOutputParser() | wikipedia_tool"
   ]
  },
  {
   "cell_type": "code",
   "execution_count": null,
   "id": "ebe09fe6",
   "metadata": {},
   "outputs": [],
   "source": [
    "chain.invoke({'input':'Who is the creator of the Python programming language?'})"
   ]
  },
  {
   "cell_type": "code",
   "execution_count": null,
   "id": "8e186f15",
   "metadata": {},
   "outputs": [],
   "source": []
  },
  {
   "cell_type": "code",
   "execution_count": null,
   "id": "b12d5b98",
   "metadata": {},
   "outputs": [],
   "source": []
  }
 ],
 "metadata": {
  "kernelspec": {
   "display_name": "langchain_env",
   "language": "python",
   "name": "langchain_env"
  },
  "language_info": {
   "codemirror_mode": {
    "name": "ipython",
    "version": 3
   },
   "file_extension": ".py",
   "mimetype": "text/x-python",
   "name": "python",
   "nbconvert_exporter": "python",
   "pygments_lexer": "ipython3",
   "version": "3.10.10"
  }
 },
 "nbformat": 4,
 "nbformat_minor": 5
}
