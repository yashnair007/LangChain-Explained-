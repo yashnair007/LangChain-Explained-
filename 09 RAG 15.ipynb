{
 "cells": [
  {
   "cell_type": "markdown",
   "id": "7d495eed",
   "metadata": {},
   "source": [
    "# Retrieval: Maximal Marginal Relevance Search"
   ]
  },
  {
   "cell_type": "code",
   "execution_count": null,
   "id": "a6ac9374-3a15-4802-ab0d-6dbf51f46169",
   "metadata": {},
   "outputs": [],
   "source": [
    "# Run the line of code below to check the version of langchain in the current environment.\n",
    "# Substitute \"langchain\" with any other package name to check their version."
   ]
  },
  {
   "cell_type": "code",
   "execution_count": null,
   "id": "d5998d64-2697-402f-a11f-783434f7a2d0",
   "metadata": {},
   "outputs": [],
   "source": [
    "pip show langchain"
   ]
  },
  {
   "cell_type": "code",
   "execution_count": null,
   "id": "2022b3ca",
   "metadata": {},
   "outputs": [],
   "source": [
    "%load_ext dotenv\n",
    "%dotenv"
   ]
  },
  {
   "cell_type": "code",
   "execution_count": null,
   "id": "08c80a29",
   "metadata": {},
   "outputs": [],
   "source": [
    "from langchain_openai.embeddings import OpenAIEmbeddings\n",
    "from langchain_community.vectorstores import Chroma\n",
    "from langchain_core.documents import Document"
   ]
  },
  {
   "cell_type": "code",
   "execution_count": null,
   "id": "53665d9a",
   "metadata": {},
   "outputs": [],
   "source": [
    "embedding = OpenAIEmbeddings(model='text-embedding-ada-002')"
   ]
  },
  {
   "cell_type": "code",
   "execution_count": null,
   "id": "bb4cc7ce",
   "metadata": {},
   "outputs": [],
   "source": [
    "vectorstore = Chroma(persist_directory = \"./intro-to-ds-lectures\", \n",
    "                     embedding_function = embedding)\n",
    "\n",
    "# added_document = Document(page_content='Alright! So… How are the techniques used in data, business intelligence, or predictive analytics applied in real life? Certainly, with the help of computers. You can basically split the relevant tools into two categories—programming languages and software. Knowing a programming language enables you to devise programs that can execute specific operations. Moreover, you can reuse these programs whenever you need to execute the same action', \n",
    "#                         metadata={'Course Title': 'Introduction to Data and Data Science', \n",
    "#                                   'Lecture Title': 'Programming Languages & Software Employed in Data Science - All the Tools You Need'})\n",
    "\n",
    "# vectorstore.add_documents([added_document])"
   ]
  },
  {
   "cell_type": "code",
   "execution_count": null,
   "id": "8f76a4e6",
   "metadata": {},
   "outputs": [],
   "source": [
    "question = \"What software do data scientists use?\""
   ]
  },
  {
   "cell_type": "code",
   "execution_count": null,
   "id": "e6c01ab3",
   "metadata": {},
   "outputs": [],
   "source": [
    "retrieved_docs = vectorstore.max_marginal_relevance_search(\n",
    "    query=question, \n",
    "    k=3, \n",
    "    lambda_mult = 1, \n",
    "    filter = {\"Lecture Title\": \"Programming Languages & Software Employed in Data Science - All the Tools You Need\"}\n",
    ")"
   ]
  },
  {
   "cell_type": "code",
   "execution_count": null,
   "id": "b0f700d0",
   "metadata": {},
   "outputs": [],
   "source": [
    "for i in retrieved_docs:\n",
    "    print(f\"Page Content: {i.page_content}\\n----------\\nLecture Title:{i.metadata['Lecture Title']}\\n\")"
   ]
  },
  {
   "cell_type": "code",
   "execution_count": null,
   "id": "3f0f19e7",
   "metadata": {},
   "outputs": [],
   "source": []
  },
  {
   "cell_type": "code",
   "execution_count": null,
   "id": "38cfac9f",
   "metadata": {},
   "outputs": [],
   "source": []
  }
 ],
 "metadata": {
  "kernelspec": {
   "display_name": "langchain_env",
   "language": "python",
   "name": "langchain_env"
  },
  "language_info": {
   "codemirror_mode": {
    "name": "ipython",
    "version": 3
   },
   "file_extension": ".py",
   "mimetype": "text/x-python",
   "name": "python",
   "nbconvert_exporter": "python",
   "pygments_lexer": "ipython3",
   "version": "3.10.10"
  }
 },
 "nbformat": 4,
 "nbformat_minor": 5
}
