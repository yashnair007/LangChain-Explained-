{
 "cells": [
  {
   "cell_type": "markdown",
   "id": "441757e1",
   "metadata": {},
   "source": [
    "# Creating a Retriever and a Custom Tool"
   ]
  },
  {
   "cell_type": "code",
   "execution_count": null,
   "id": "40b2fb36-c86d-4603-9e1a-e32aa7159f58",
   "metadata": {},
   "outputs": [],
   "source": [
    "# Run the line of code below to check the version of langchain in the current environment.\n",
    "# Substitute \"langchain\" with any other package name to check their version."
   ]
  },
  {
   "cell_type": "code",
   "execution_count": null,
   "id": "e8e41ef6-9ad1-4542-a004-71b7c5dba61a",
   "metadata": {},
   "outputs": [],
   "source": [
    "pip show langchain"
   ]
  },
  {
   "cell_type": "code",
   "execution_count": null,
   "id": "5137f6d9",
   "metadata": {},
   "outputs": [],
   "source": [
    "%load_ext dotenv\n",
    "%dotenv"
   ]
  },
  {
   "cell_type": "code",
   "execution_count": null,
   "id": "1f6ebc55",
   "metadata": {},
   "outputs": [],
   "source": [
    "from langchain_community.vectorstores import Chroma\n",
    "\n",
    "from langchain_openai.embeddings import OpenAIEmbeddings\n",
    "\n",
    "from langchain_core.tools import tool\n",
    "from langchain_core.tools import create_retriever_tool\n",
    "\n",
    "from platform import python_version"
   ]
  },
  {
   "cell_type": "code",
   "execution_count": null,
   "id": "f2ae02a9",
   "metadata": {},
   "outputs": [],
   "source": [
    "vectorstore = Chroma(persist_directory = \"./intro-to-ds-lectures\", \n",
    "                     embedding_function = OpenAIEmbeddings())\n",
    "\n",
    "retriever = vectorstore.as_retriever(search_type = 'mmr', \n",
    "                                     search_kwargs = {'k':3, 'lambda_mult':0.7})\n",
    "\n",
    "retriever_tool = create_retriever_tool(retriever = retriever, \n",
    "                                       name = \"Introduction to Data and Data Science Course Lectures\", \n",
    "                                       description = '''For any questions regarding the \n",
    "                                       Introduction to Data and Data Science course, you must use this tool.''')"
   ]
  },
  {
   "cell_type": "code",
   "execution_count": null,
   "id": "74b68afe",
   "metadata": {},
   "outputs": [],
   "source": [
    "retriever_tool"
   ]
  },
  {
   "cell_type": "code",
   "execution_count": null,
   "id": "e438d3c1",
   "metadata": {},
   "outputs": [],
   "source": [
    "retriever_tool.args"
   ]
  },
  {
   "cell_type": "code",
   "execution_count": null,
   "id": "20ef47a9",
   "metadata": {},
   "outputs": [],
   "source": [
    "print(retriever_tool.invoke(\"Could you list the programming languages a data scientist should know?\"))"
   ]
  },
  {
   "cell_type": "code",
   "execution_count": null,
   "id": "4da7f473",
   "metadata": {},
   "outputs": [],
   "source": [
    "@tool(\"Another Name\")\n",
    "def get_python_version() -> str:\n",
    "    ''' Useful for questions regarding the version of Python currently used. '''\n",
    "    return python_version()"
   ]
  },
  {
   "cell_type": "code",
   "execution_count": null,
   "id": "37d1db1e",
   "metadata": {},
   "outputs": [],
   "source": [
    "get_python_version"
   ]
  },
  {
   "cell_type": "code",
   "execution_count": null,
   "id": "53f07bfa",
   "metadata": {},
   "outputs": [],
   "source": [
    "get_python_version.args"
   ]
  },
  {
   "cell_type": "code",
   "execution_count": null,
   "id": "17fc096d",
   "metadata": {},
   "outputs": [],
   "source": [
    "get_python_version.invoke({})"
   ]
  },
  {
   "cell_type": "code",
   "execution_count": null,
   "id": "c695a23d",
   "metadata": {},
   "outputs": [],
   "source": []
  },
  {
   "cell_type": "code",
   "execution_count": null,
   "id": "0d7113c8",
   "metadata": {},
   "outputs": [],
   "source": []
  }
 ],
 "metadata": {
  "kernelspec": {
   "display_name": "langchain_env",
   "language": "python",
   "name": "langchain_env"
  },
  "language_info": {
   "codemirror_mode": {
    "name": "ipython",
    "version": 3
   },
   "file_extension": ".py",
   "mimetype": "text/x-python",
   "name": "python",
   "nbconvert_exporter": "python",
   "pygments_lexer": "ipython3",
   "version": "3.10.10"
  }
 },
 "nbformat": 4,
 "nbformat_minor": 5
}
