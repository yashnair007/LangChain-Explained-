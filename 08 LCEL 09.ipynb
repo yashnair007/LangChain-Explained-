{
 "cells": [
  {
   "cell_type": "markdown",
   "id": "294d1be6",
   "metadata": {},
   "source": [
    "# RunnableLambda"
   ]
  },
  {
   "cell_type": "code",
   "execution_count": null,
   "id": "c7f53b98-d879-41b3-bf9b-d3b0f354e267",
   "metadata": {},
   "outputs": [],
   "source": [
    "# Run the line of code below to check the version of langchain in the current environment.\n",
    "# Substitute \"langchain\" with any other package name to check their version."
   ]
  },
  {
   "cell_type": "code",
   "execution_count": null,
   "id": "7597ba62-c4fb-46a2-96de-f73422c91800",
   "metadata": {},
   "outputs": [],
   "source": [
    "pip show langchain"
   ]
  },
  {
   "cell_type": "code",
   "execution_count": 1,
   "id": "645e9722",
   "metadata": {},
   "outputs": [],
   "source": [
    "from langchain_core.runnables import RunnableLambda"
   ]
  },
  {
   "cell_type": "code",
   "execution_count": 2,
   "id": "7c0553d5",
   "metadata": {},
   "outputs": [],
   "source": [
    "find_sum = lambda x: sum(x)"
   ]
  },
  {
   "cell_type": "code",
   "execution_count": 3,
   "id": "02b40542",
   "metadata": {},
   "outputs": [
    {
     "data": {
      "text/plain": [
       "8"
      ]
     },
     "execution_count": 3,
     "metadata": {},
     "output_type": "execute_result"
    }
   ],
   "source": [
    "find_sum([1, 2, 5])"
   ]
  },
  {
   "cell_type": "code",
   "execution_count": 4,
   "id": "e2c9bea5",
   "metadata": {},
   "outputs": [],
   "source": [
    "find_square = lambda x: x**2"
   ]
  },
  {
   "cell_type": "code",
   "execution_count": 5,
   "id": "a27766a1",
   "metadata": {},
   "outputs": [
    {
     "data": {
      "text/plain": [
       "64"
      ]
     },
     "execution_count": 5,
     "metadata": {},
     "output_type": "execute_result"
    }
   ],
   "source": [
    "find_square(8)"
   ]
  },
  {
   "cell_type": "code",
   "execution_count": 6,
   "id": "b7478f4e",
   "metadata": {},
   "outputs": [],
   "source": [
    "runnable_sum = RunnableLambda(lambda x: sum(x))"
   ]
  },
  {
   "cell_type": "code",
   "execution_count": 7,
   "id": "a5a4f909",
   "metadata": {},
   "outputs": [
    {
     "data": {
      "text/plain": [
       "8"
      ]
     },
     "execution_count": 7,
     "metadata": {},
     "output_type": "execute_result"
    }
   ],
   "source": [
    "runnable_sum.invoke([1, 2, 5])"
   ]
  },
  {
   "cell_type": "code",
   "execution_count": 8,
   "id": "e2902b85",
   "metadata": {},
   "outputs": [],
   "source": [
    "runnable_square = RunnableLambda(lambda x: x**2)"
   ]
  },
  {
   "cell_type": "code",
   "execution_count": 9,
   "id": "d37bdecd",
   "metadata": {},
   "outputs": [
    {
     "data": {
      "text/plain": [
       "64"
      ]
     },
     "execution_count": 9,
     "metadata": {},
     "output_type": "execute_result"
    }
   ],
   "source": [
    "runnable_square.invoke(8)"
   ]
  },
  {
   "cell_type": "code",
   "execution_count": 10,
   "id": "9990edd7",
   "metadata": {},
   "outputs": [],
   "source": [
    "chain = runnable_sum | runnable_square"
   ]
  },
  {
   "cell_type": "code",
   "execution_count": 11,
   "id": "7ef69d1d",
   "metadata": {},
   "outputs": [
    {
     "data": {
      "text/plain": [
       "64"
      ]
     },
     "execution_count": 11,
     "metadata": {},
     "output_type": "execute_result"
    }
   ],
   "source": [
    "chain.invoke([1, 2, 5])"
   ]
  },
  {
   "cell_type": "code",
   "execution_count": 12,
   "id": "7aa034fd",
   "metadata": {},
   "outputs": [
    {
     "name": "stdout",
     "output_type": "stream",
     "text": [
      "+-------------+  \n",
      "| LambdaInput |  \n",
      "+-------------+  \n",
      "        *        \n",
      "        *        \n",
      "        *        \n",
      "   +--------+    \n",
      "   | Lambda |    \n",
      "   +--------+    \n",
      "        *        \n",
      "        *        \n",
      "        *        \n",
      "   +--------+    \n",
      "   | Lambda |    \n",
      "   +--------+    \n",
      "        *        \n",
      "        *        \n",
      "        *        \n",
      "+--------------+ \n",
      "| LambdaOutput | \n",
      "+--------------+ \n"
     ]
    }
   ],
   "source": [
    "chain.get_graph().print_ascii()"
   ]
  },
  {
   "cell_type": "code",
   "execution_count": null,
   "id": "b92e4ec5",
   "metadata": {},
   "outputs": [],
   "source": []
  },
  {
   "cell_type": "code",
   "execution_count": null,
   "id": "31333c41",
   "metadata": {},
   "outputs": [],
   "source": []
  }
 ],
 "metadata": {
  "kernelspec": {
   "display_name": "langchain_env",
   "language": "python",
   "name": "langchain_env"
  },
  "language_info": {
   "codemirror_mode": {
    "name": "ipython",
    "version": 3
   },
   "file_extension": ".py",
   "mimetype": "text/x-python",
   "name": "python",
   "nbconvert_exporter": "python",
   "pygments_lexer": "ipython3",
   "version": "3.10.10"
  }
 },
 "nbformat": 4,
 "nbformat_minor": 5
}
