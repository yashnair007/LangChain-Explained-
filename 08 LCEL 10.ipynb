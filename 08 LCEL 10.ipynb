{
 "cells": [
  {
   "cell_type": "markdown",
   "id": "8c0fecd7",
   "metadata": {},
   "source": [
    "# The @chain Decorator"
   ]
  },
  {
   "cell_type": "code",
   "execution_count": null,
   "id": "0c22b25f-a9ca-43d4-ab2a-2dca69906f45",
   "metadata": {},
   "outputs": [],
   "source": [
    "# Run the line of code below to check the version of langchain in the current environment.\n",
    "# Substitute \"langchain\" with any other package name to check their version."
   ]
  },
  {
   "cell_type": "code",
   "execution_count": null,
   "id": "86716a7b-9a16-47ad-9909-f9999bc7ab08",
   "metadata": {},
   "outputs": [],
   "source": [
    "pip show langchain"
   ]
  },
  {
   "cell_type": "code",
   "execution_count": null,
   "id": "35cfdbba",
   "metadata": {},
   "outputs": [],
   "source": [
    "from langchain_core.runnables import RunnableLambda\n",
    "from langchain_core.runnables import chain"
   ]
  },
  {
   "cell_type": "code",
   "execution_count": null,
   "id": "c0785132",
   "metadata": {},
   "outputs": [],
   "source": [
    "def find_sum(x):\n",
    "    return sum(x)\n",
    "\n",
    "def find_square(x):\n",
    "    return x**2"
   ]
  },
  {
   "cell_type": "code",
   "execution_count": null,
   "id": "9eaf0ad8",
   "metadata": {},
   "outputs": [],
   "source": [
    "chain1 = RunnableLambda(find_sum) | RunnableLambda(find_square)"
   ]
  },
  {
   "cell_type": "code",
   "execution_count": null,
   "id": "9497cf3c",
   "metadata": {},
   "outputs": [],
   "source": [
    "chain1.invoke([1, 2, 5])"
   ]
  },
  {
   "cell_type": "code",
   "execution_count": null,
   "id": "454125af",
   "metadata": {},
   "outputs": [],
   "source": [
    "@chain\n",
    "def runnable_sum(x):\n",
    "    return sum(x)\n",
    "\n",
    "@chain\n",
    "def runnable_square(x):\n",
    "    return x**2"
   ]
  },
  {
   "cell_type": "code",
   "execution_count": null,
   "id": "3a3adc5e",
   "metadata": {},
   "outputs": [],
   "source": [
    "type(runnable_sum), type(runnable_square)"
   ]
  },
  {
   "cell_type": "code",
   "execution_count": null,
   "id": "1bd1f0b1",
   "metadata": {},
   "outputs": [],
   "source": [
    "chain2 = runnable_sum | runnable_square"
   ]
  },
  {
   "cell_type": "code",
   "execution_count": null,
   "id": "494e5277",
   "metadata": {},
   "outputs": [],
   "source": [
    "chain2.invoke([1, 2, 5])"
   ]
  },
  {
   "cell_type": "code",
   "execution_count": null,
   "id": "e2c85d04",
   "metadata": {},
   "outputs": [],
   "source": []
  },
  {
   "cell_type": "code",
   "execution_count": null,
   "id": "bed82645",
   "metadata": {},
   "outputs": [],
   "source": []
  }
 ],
 "metadata": {
  "kernelspec": {
   "display_name": "langchain_env",
   "language": "python",
   "name": "langchain_env"
  },
  "language_info": {
   "codemirror_mode": {
    "name": "ipython",
    "version": 3
   },
   "file_extension": ".py",
   "mimetype": "text/x-python",
   "name": "python",
   "nbconvert_exporter": "python",
   "pygments_lexer": "ipython3",
   "version": "3.10.10"
  }
 },
 "nbformat": 4,
 "nbformat_minor": 5
}
