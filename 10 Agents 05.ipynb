{
 "cells": [
  {
   "cell_type": "markdown",
   "id": "65d542da",
   "metadata": {},
   "source": [
    "# LangChain Hub"
   ]
  },
  {
   "cell_type": "code",
   "execution_count": null,
   "id": "4447fcc6-25f0-41b4-97c6-861c8e19e758",
   "metadata": {},
   "outputs": [],
   "source": [
    "# Run the line of code below to check the version of langchain in the current environment.\n",
    "# Substitute \"langchain\" with any other package name to check their version."
   ]
  },
  {
   "cell_type": "code",
   "execution_count": null,
   "id": "696545cb-9310-497e-8cd0-44e96361cf75",
   "metadata": {},
   "outputs": [],
   "source": [
    "pip show langchain"
   ]
  },
  {
   "cell_type": "code",
   "execution_count": null,
   "id": "6fea2ef9",
   "metadata": {},
   "outputs": [],
   "source": [
    "%load_ext dotenv\n",
    "%dotenv"
   ]
  },
  {
   "cell_type": "code",
   "execution_count": null,
   "id": "c5910cd0",
   "metadata": {},
   "outputs": [],
   "source": [
    "from langchain_community.utilities import WikipediaAPIWrapper\n",
    "from langchain_community.tools import WikipediaQueryRun\n",
    "from langchain_community.vectorstores import Chroma\n",
    "\n",
    "from langchain_openai.embeddings import OpenAIEmbeddings\n",
    "from langchain_openai.chat_models import ChatOpenAI\n",
    "\n",
    "from langchain.tools.retriever import create_retriever_tool\n",
    "from langchain.tools import tool\n",
    "\n",
    "from langchain import hub\n",
    "\n",
    "from platform import python_version\n",
    "\n",
    "from langchain.agents import (create_tool_calling_agent, \n",
    "                              AgentExecutor)"
   ]
  },
  {
   "cell_type": "code",
   "execution_count": null,
   "id": "600913d1",
   "metadata": {},
   "outputs": [],
   "source": [
    "wikipedia_tool = WikipediaQueryRun(api_wrapper = WikipediaAPIWrapper())"
   ]
  },
  {
   "cell_type": "code",
   "execution_count": null,
   "id": "8b6eb52d",
   "metadata": {},
   "outputs": [],
   "source": [
    "vectorstore = Chroma(persist_directory = \"./intro-to-ds-lectures\", \n",
    "                     embedding_function = OpenAIEmbeddings())\n",
    "\n",
    "retriever = vectorstore.as_retriever(search_type = 'mmr', \n",
    "                                     search_kwargs = {'k':3, \n",
    "                                                      'lambda_mult':0.7})\n",
    "\n",
    "retriever_tool = create_retriever_tool(retriever = retriever, \n",
    "                                       name = \"Introduction-to-Data-and-Data-Science-Course-Lectures\", \n",
    "                                       description = '''For any questions regarding \n",
    "                                       the Introduction to Data and Data Science course, you must use this tool.''')"
   ]
  },
  {
   "cell_type": "code",
   "execution_count": null,
   "id": "15d06807",
   "metadata": {},
   "outputs": [],
   "source": [
    "@tool\n",
    "def get_python_version() -> str:\n",
    "    ''' Useful for questions regarding the version of Python currently used. '''\n",
    "    return python_version()"
   ]
  },
  {
   "cell_type": "code",
   "execution_count": null,
   "id": "00dfd9a4",
   "metadata": {},
   "outputs": [],
   "source": [
    "tools = [wikipedia_tool, retriever_tool, get_python_version]"
   ]
  },
  {
   "cell_type": "code",
   "execution_count": null,
   "id": "14fbe673",
   "metadata": {},
   "outputs": [],
   "source": [
    "chat = ChatOpenAI(model_name = 'gpt-4-0125-preview', \n",
    "                  temperature = 0,\n",
    "                  model_kwargs = {'seed':365})"
   ]
  },
  {
   "cell_type": "code",
   "execution_count": null,
   "id": "6d227f43",
   "metadata": {},
   "outputs": [],
   "source": [
    "chat_prompt_template = hub.pull(\"hwchase17/openai-tools-agent\")"
   ]
  },
  {
   "cell_type": "code",
   "execution_count": null,
   "id": "bc76e612",
   "metadata": {},
   "outputs": [],
   "source": [
    "chat_prompt_template"
   ]
  },
  {
   "cell_type": "code",
   "execution_count": null,
   "id": "db1ead76",
   "metadata": {},
   "outputs": [],
   "source": [
    "chat_prompt_template.pretty_print()"
   ]
  },
  {
   "cell_type": "code",
   "execution_count": null,
   "id": "44622ed3",
   "metadata": {},
   "outputs": [],
   "source": [
    "ChatPromptTemplate(input_variables=['agent_scratchpad', 'input'], \n",
    "                   input_types={'chat_history': typing.List[typing.Union[langchain_core.messages.ai.AIMessage, \n",
    "                                                                         langchain_core.messages.human.HumanMessage, \n",
    "                                                                         langchain_core.messages.chat.ChatMessage, \n",
    "                                                                         langchain_core.messages.system.SystemMessage, \n",
    "                                                                         langchain_core.messages.function.FunctionMessage, \n",
    "                                                                         langchain_core.messages.tool.ToolMessage]], \n",
    "                                'agent_scratchpad': typing.List[typing.Union[langchain_core.messages.ai.AIMessage, \n",
    "                                                                             langchain_core.messages.human.HumanMessage, \n",
    "                                                                             langchain_core.messages.chat.ChatMessage, \n",
    "                                                                             langchain_core.messages.system.SystemMessage, \n",
    "                                                                             langchain_core.messages.function.FunctionMessage, \n",
    "                                                                             langchain_core.messages.tool.ToolMessage]]}, \n",
    "                   messages=[SystemMessagePromptTemplate(prompt=PromptTemplate(input_variables=[], \n",
    "                                                                               template='You are a helpful assistant')), \n",
    "                             MessagesPlaceholder(variable_name='chat_history', optional=True), \n",
    "                             HumanMessagePromptTemplate(prompt=PromptTemplate(input_variables=['input'], \n",
    "                                                                              template='{input}')), \n",
    "                             MessagesPlaceholder(variable_name='agent_scratchpad')])"
   ]
  },
  {
   "cell_type": "code",
   "execution_count": null,
   "id": "ae7301f6",
   "metadata": {},
   "outputs": [],
   "source": [
    "agent = create_tool_calling_agent(llm = chat, \n",
    "                                  tools = tools, \n",
    "                                  prompt = chat_prompt_template)"
   ]
  },
  {
   "cell_type": "code",
   "execution_count": null,
   "id": "5f255b15",
   "metadata": {},
   "outputs": [],
   "source": [
    "agent_executor = AgentExecutor(agent=agent, \n",
    "                               tools=tools, \n",
    "                               verbose=True, \n",
    "                               return_intermediate_steps=True)"
   ]
  },
  {
   "cell_type": "code",
   "execution_count": null,
   "id": "a9e064a9",
   "metadata": {},
   "outputs": [],
   "source": [
    "response = agent_executor.invoke({\"input\":\"Could you tell me the version of Python I'm currently using?\"})"
   ]
  },
  {
   "cell_type": "code",
   "execution_count": null,
   "id": "879088ca",
   "metadata": {},
   "outputs": [],
   "source": []
  },
  {
   "cell_type": "code",
   "execution_count": null,
   "id": "f974df21",
   "metadata": {},
   "outputs": [],
   "source": []
  }
 ],
 "metadata": {
  "kernelspec": {
   "display_name": "langchain_env",
   "language": "python",
   "name": "langchain_env"
  },
  "language_info": {
   "codemirror_mode": {
    "name": "ipython",
    "version": 3
   },
   "file_extension": ".py",
   "mimetype": "text/x-python",
   "name": "python",
   "nbconvert_exporter": "python",
   "pygments_lexer": "ipython3",
   "version": "3.10.10"
  }
 },
 "nbformat": 4,
 "nbformat_minor": 5
}
