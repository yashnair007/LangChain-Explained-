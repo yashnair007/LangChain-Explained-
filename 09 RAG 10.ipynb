{
 "cells": [
  {
   "cell_type": "markdown",
   "id": "748f5a77",
   "metadata": {},
   "source": [
    "# Indexing: Document Splitting with Markdown Header Text Splitter"
   ]
  },
  {
   "cell_type": "code",
   "execution_count": null,
   "id": "6234733c-1d4f-4573-9d85-41c07653af1f",
   "metadata": {},
   "outputs": [],
   "source": [
    "# Run the line of code below to check the version of langchain in the current environment.\n",
    "# Substitute \"langchain\" with any other package name to check their version."
   ]
  },
  {
   "cell_type": "code",
   "execution_count": null,
   "id": "4eec09b7-d35a-4b83-b4a0-7f9b45a22f63",
   "metadata": {},
   "outputs": [],
   "source": [
    "pip show langchain"
   ]
  },
  {
   "cell_type": "markdown",
   "id": "b2784ca5",
   "metadata": {},
   "source": [
    "# Heading 1"
   ]
  },
  {
   "cell_type": "markdown",
   "id": "7e269e62",
   "metadata": {},
   "source": [
    "## Heading 2"
   ]
  },
  {
   "cell_type": "markdown",
   "id": "69b80623",
   "metadata": {},
   "source": [
    "### Heading 3"
   ]
  },
  {
   "cell_type": "code",
   "execution_count": null,
   "id": "e9a1e2ff",
   "metadata": {},
   "outputs": [],
   "source": [
    "from langchain_community.document_loaders import Docx2txtLoader\n",
    "from langchain_text_splitters.markdown import MarkdownHeaderTextSplitter"
   ]
  },
  {
   "cell_type": "code",
   "execution_count": null,
   "id": "2ae4ddcd",
   "metadata": {},
   "outputs": [],
   "source": [
    "loader_docx = Docx2txtLoader(\"Introduction_to_Data_and_Data_Science_2.docx\")\n",
    "pages = loader_docx.load()"
   ]
  },
  {
   "cell_type": "code",
   "execution_count": null,
   "id": "0b1b4b23",
   "metadata": {
    "scrolled": true
   },
   "outputs": [],
   "source": [
    "pages"
   ]
  },
  {
   "cell_type": "code",
   "execution_count": null,
   "id": "3c2cc87c",
   "metadata": {},
   "outputs": [],
   "source": [
    "md_splitter = MarkdownHeaderTextSplitter(headers_to_split_on = [(\"#\", \"Course Title\"), \n",
    "                                                                (\"##\", \"Lecture Title\")])"
   ]
  },
  {
   "cell_type": "code",
   "execution_count": null,
   "id": "fcf0b228",
   "metadata": {},
   "outputs": [],
   "source": [
    "pages_md_split = md_splitter.split_text(pages[0].page_content)"
   ]
  },
  {
   "cell_type": "code",
   "execution_count": null,
   "id": "078479db",
   "metadata": {
    "scrolled": true
   },
   "outputs": [],
   "source": [
    "pages_md_split"
   ]
  },
  {
   "cell_type": "code",
   "execution_count": null,
   "id": "2cd641b7",
   "metadata": {},
   "outputs": [],
   "source": []
  },
  {
   "cell_type": "code",
   "execution_count": null,
   "id": "9070b581",
   "metadata": {},
   "outputs": [],
   "source": []
  }
 ],
 "metadata": {
  "kernelspec": {
   "display_name": "langchain_env",
   "language": "python",
   "name": "langchain_env"
  },
  "language_info": {
   "codemirror_mode": {
    "name": "ipython",
    "version": 3
   },
   "file_extension": ".py",
   "mimetype": "text/x-python",
   "name": "python",
   "nbconvert_exporter": "python",
   "pygments_lexer": "ipython3",
   "version": "3.10.10"
  }
 },
 "nbformat": 4,
 "nbformat_minor": 5
}
