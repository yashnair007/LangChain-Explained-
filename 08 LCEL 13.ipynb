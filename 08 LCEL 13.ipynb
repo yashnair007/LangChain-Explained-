{
 "cells": [
  {
   "cell_type": "markdown",
   "id": "1063d54a",
   "metadata": {},
   "source": [
    "# Itemgetter"
   ]
  },
  {
   "cell_type": "code",
   "execution_count": null,
   "id": "4b9bb16a-6da3-496b-86e8-5c11fd244663",
   "metadata": {},
   "outputs": [],
   "source": [
    "# Run the line of code below to check the version of langchain in the current environment.\n",
    "# Substitute \"langchain\" with any other package name to check their version."
   ]
  },
  {
   "cell_type": "code",
   "execution_count": null,
   "id": "646f86c4-3c75-4641-ab8e-64f4fd3251fc",
   "metadata": {},
   "outputs": [],
   "source": [
    "pip show langchain"
   ]
  },
  {
   "cell_type": "code",
   "execution_count": null,
   "id": "4211bf44",
   "metadata": {},
   "outputs": [],
   "source": [
    "%load_ext dotenv\n",
    "%dotenv"
   ]
  },
  {
   "cell_type": "code",
   "execution_count": null,
   "id": "df900c57",
   "metadata": {},
   "outputs": [],
   "source": [
    "from langchain.memory import ConversationSummaryMemory\n",
    "from langchain_core.prompts import PromptTemplate\n",
    "from langchain_openai import ChatOpenAI\n",
    "from langchain_core.output_parsers import StrOutputParser\n",
    "from langchain_core.runnables import RunnablePassthrough, RunnableLambda\n",
    "from operator import itemgetter"
   ]
  },
  {
   "cell_type": "code",
   "execution_count": null,
   "id": "727890ae",
   "metadata": {},
   "outputs": [],
   "source": [
    "TEMPLATE = '''\n",
    "The following is a friendly conversation between a human and an AI. \n",
    "The AI is talkative and provides lots of specific details from its context. \n",
    "If the AI does not know the answer to a question, it truthfully says it does not know.\n",
    "\n",
    "Current conversation:\n",
    "{message_log}\n",
    "\n",
    "Human: \n",
    "{question}\n",
    "\n",
    "AI:\n",
    "'''\n",
    "\n",
    "prompt_template = PromptTemplate.from_template(template=TEMPLATE)"
   ]
  },
  {
   "cell_type": "code",
   "execution_count": null,
   "id": "2d343548",
   "metadata": {},
   "outputs": [],
   "source": [
    "chat = ChatOpenAI(model_name = 'gpt-4', \n",
    "                  model_kwargs = {'seed':365},\n",
    "                  temperature = 0,\n",
    "                  max_tokens = 100)"
   ]
  },
  {
   "cell_type": "code",
   "execution_count": null,
   "id": "577021c4",
   "metadata": {},
   "outputs": [],
   "source": [
    "chain = prompt_template | chat | StrOutputParser()"
   ]
  },
  {
   "cell_type": "code",
   "execution_count": null,
   "id": "4fb1ca76",
   "metadata": {},
   "outputs": [],
   "source": [
    "chain.invoke({'message_log':'''The AI provides an interesting fact about octopuses, stating that they have three hearts. \n",
    "Two hearts pump blood to the gills, while the third heart pumps it to the rest of the body.''', \n",
    "              'question':\"Can you elaborate a bit more on this fact?\"})"
   ]
  },
  {
   "cell_type": "code",
   "execution_count": null,
   "id": "acc451d2",
   "metadata": {},
   "outputs": [],
   "source": [
    "chat_memory = ConversationSummaryMemory(llm = ChatOpenAI(), memory_key = 'message_log')"
   ]
  },
  {
   "cell_type": "code",
   "execution_count": null,
   "id": "fd23c40e",
   "metadata": {},
   "outputs": [],
   "source": [
    "chat_memory.load_memory_variables({})"
   ]
  },
  {
   "cell_type": "code",
   "execution_count": null,
   "id": "25358811",
   "metadata": {},
   "outputs": [],
   "source": [
    "RunnablePassthrough.assign(message_log = chat_memory.load_memory_variables).invoke(\n",
    "    {'question':\"Can you give me an interesting fact I probably didn't know about?\"})"
   ]
  },
  {
   "cell_type": "code",
   "execution_count": null,
   "id": "d3369902",
   "metadata": {},
   "outputs": [],
   "source": [
    "RunnablePassthrough.assign(first_letter = lambda x: list(x['input'])[0], \n",
    "                           second_letter = lambda x: list(x['input'])[1]\n",
    "                          ).invoke({'input':'hi'})"
   ]
  },
  {
   "cell_type": "code",
   "execution_count": null,
   "id": "977d217b",
   "metadata": {},
   "outputs": [],
   "source": [
    "[0, 1, 2, 3].__getitem__(1)"
   ]
  },
  {
   "cell_type": "code",
   "execution_count": null,
   "id": "ce5e4a15",
   "metadata": {},
   "outputs": [],
   "source": [
    "(0, 1, 2, 3).__getitem__(1)"
   ]
  },
  {
   "cell_type": "code",
   "execution_count": null,
   "id": "5b44edf3",
   "metadata": {},
   "outputs": [],
   "source": [
    "'hi'.__getitem__(1)"
   ]
  },
  {
   "cell_type": "code",
   "execution_count": null,
   "id": "369bd5c6",
   "metadata": {},
   "outputs": [],
   "source": [
    "{'key':'value'}.__getitem__('key')"
   ]
  },
  {
   "cell_type": "code",
   "execution_count": null,
   "id": "5abe58fd",
   "metadata": {},
   "outputs": [],
   "source": [
    "RunnableLambda(itemgetter('message_log')).invoke({'message_log':''})"
   ]
  },
  {
   "cell_type": "code",
   "execution_count": null,
   "id": "f92d385e",
   "metadata": {},
   "outputs": [],
   "source": [
    "RunnablePassthrough.assign(message_log = \n",
    "                           RunnableLambda(chat_memory.load_memory_variables) | \n",
    "                           RunnableLambda(itemgetter('message_log')) ).invoke(\n",
    "    {'question':\"Can you give me an interesting fact I probably didn't know about?\"})"
   ]
  },
  {
   "cell_type": "code",
   "execution_count": null,
   "id": "1a0f0c54",
   "metadata": {},
   "outputs": [],
   "source": []
  },
  {
   "cell_type": "code",
   "execution_count": null,
   "id": "fcbd8f7a",
   "metadata": {},
   "outputs": [],
   "source": []
  }
 ],
 "metadata": {
  "kernelspec": {
   "display_name": "langchain_env",
   "language": "python",
   "name": "langchain_env"
  },
  "language_info": {
   "codemirror_mode": {
    "name": "ipython",
    "version": 3
   },
   "file_extension": ".py",
   "mimetype": "text/x-python",
   "name": "python",
   "nbconvert_exporter": "python",
   "pygments_lexer": "ipython3",
   "version": "3.10.10"
  }
 },
 "nbformat": 4,
 "nbformat_minor": 5
}
