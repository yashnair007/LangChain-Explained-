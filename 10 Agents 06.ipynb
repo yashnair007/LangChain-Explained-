{
 "cells": [
  {
   "cell_type": "markdown",
   "id": "65d542da",
   "metadata": {},
   "source": [
    "# Creating a Tool Calling Agent and an Agent Executor"
   ]
  },
  {
   "cell_type": "code",
   "execution_count": 1,
   "id": "6fea2ef9",
   "metadata": {},
   "outputs": [],
   "source": [
    "%load_ext dotenv\n",
    "%dotenv"
   ]
  },
  {
   "cell_type": "code",
   "execution_count": 2,
   "id": "c5910cd0",
   "metadata": {},
   "outputs": [],
   "source": [
    "from langchain_community.utilities import WikipediaAPIWrapper\n",
    "from langchain_community.tools import WikipediaQueryRun\n",
    "from langchain_community.vectorstores import Chroma\n",
    "\n",
    "from langchain_openai.embeddings import OpenAIEmbeddings\n",
    "from langchain_openai.chat_models import ChatOpenAI\n",
    "\n",
    "from langchain.tools.retriever import create_retriever_tool\n",
    "from langchain.tools import tool\n",
    "\n",
    "from langchain import hub\n",
    "\n",
    "from platform import python_version\n",
    "\n",
    "from langchain.agents import create_tool_calling_agent, AgentExecutor"
   ]
  },
  {
   "cell_type": "code",
   "execution_count": 3,
   "id": "600913d1",
   "metadata": {},
   "outputs": [],
   "source": [
    "wikipedia_tool = WikipediaQueryRun(api_wrapper = WikipediaAPIWrapper())"
   ]
  },
  {
   "cell_type": "code",
   "execution_count": 4,
   "id": "8b6eb52d",
   "metadata": {},
   "outputs": [],
   "source": [
    "vectorstore = Chroma(persist_directory = \"./intro-to-ds-lectures\", \n",
    "                     embedding_function = OpenAIEmbeddings())\n",
    "\n",
    "retriever = vectorstore.as_retriever(search_type = 'mmr', \n",
    "                                     search_kwargs = {'k':3, \n",
    "                                                      'lambda_mult':0.7})\n",
    "\n",
    "retriever_tool = create_retriever_tool(retriever = retriever, \n",
    "                                       name = \"Introduction-to-Data-and-Data-Science-Course-Lectures\", \n",
    "                                       description = '''For any questions regarding \n",
    "                                       the Introduction to Data and Data Science course, you must use this tool.''')"
   ]
  },
  {
   "cell_type": "code",
   "execution_count": 5,
   "id": "15d06807",
   "metadata": {},
   "outputs": [],
   "source": [
    "@tool\n",
    "def get_python_version() -> str:\n",
    "    ''' Useful for questions regarding the version of Python currently used. '''\n",
    "    return python_version()"
   ]
  },
  {
   "cell_type": "code",
   "execution_count": 6,
   "id": "00dfd9a4",
   "metadata": {},
   "outputs": [],
   "source": [
    "tools = [wikipedia_tool, retriever_tool, get_python_version]"
   ]
  },
  {
   "cell_type": "code",
   "execution_count": 7,
   "id": "14fbe673",
   "metadata": {},
   "outputs": [],
   "source": [
    "chat = ChatOpenAI(model_name = 'gpt-4-0125-preview', \n",
    "                  temperature = 0,\n",
    "                  model_kwargs = {'seed':365})"
   ]
  },
  {
   "cell_type": "code",
   "execution_count": 8,
   "id": "6d227f43",
   "metadata": {},
   "outputs": [],
   "source": [
    "chat_prompt_template = hub.pull(\"hwchase17/openai-tools-agent\")"
   ]
  },
  {
   "cell_type": "code",
   "execution_count": 9,
   "id": "f974df21",
   "metadata": {},
   "outputs": [],
   "source": [
    "agent = create_tool_calling_agent(llm = chat, \n",
    "                                  tools = tools, \n",
    "                                  prompt = chat_prompt_template)"
   ]
  },
  {
   "cell_type": "code",
   "execution_count": 10,
   "id": "aa6b44a5",
   "metadata": {},
   "outputs": [],
   "source": [
    "agent_executor = AgentExecutor(agent = agent, \n",
    "                               tools = tools, \n",
    "                               verbose = True, \n",
    "                               return_intermediate_steps = True)"
   ]
  },
  {
   "cell_type": "code",
   "execution_count": 11,
   "id": "25631abf",
   "metadata": {},
   "outputs": [
    {
     "name": "stdout",
     "output_type": "stream",
     "text": [
      "\n",
      "\n",
      "\u001b[1m> Entering new AgentExecutor chain...\u001b[0m\n",
      "\u001b[32;1m\u001b[1;3m\n",
      "Invoking: `get_python_version` with `{}`\n",
      "\n",
      "\n",
      "\u001b[0m\u001b[38;5;200m\u001b[1;3m3.10.10\u001b[0m\u001b[32;1m\u001b[1;3mThe version of Python you are currently using is 3.10.10.\u001b[0m\n",
      "\n",
      "\u001b[1m> Finished chain.\u001b[0m\n"
     ]
    }
   ],
   "source": [
    "response = agent_executor.invoke({\"input\":\"Could you tell me the version of Python I'm currently using?\"})"
   ]
  },
  {
   "cell_type": "code",
   "execution_count": 12,
   "id": "9608db2c",
   "metadata": {},
   "outputs": [
    {
     "data": {
      "text/plain": [
       "{'input': \"Could you tell me the version of Python I'm currently using?\",\n",
       " 'output': 'The version of Python you are currently using is 3.10.10.',\n",
       " 'intermediate_steps': [(ToolAgentAction(tool='get_python_version', tool_input={}, log='\\nInvoking: `get_python_version` with `{}`\\n\\n\\n', message_log=[AIMessageChunk(content='', additional_kwargs={'tool_calls': [{'index': 0, 'id': 'call_UKqbz9tJB5cvkrVmhAUAS2aU', 'function': {'arguments': '{}', 'name': 'get_python_version'}, 'type': 'function'}]}, response_metadata={'finish_reason': 'tool_calls'}, id='run-97fc1f06-ea0a-4a5b-86da-d98b679b3a42', tool_calls=[{'name': 'get_python_version', 'args': {}, 'id': 'call_UKqbz9tJB5cvkrVmhAUAS2aU'}], tool_call_chunks=[{'name': 'get_python_version', 'args': '{}', 'id': 'call_UKqbz9tJB5cvkrVmhAUAS2aU', 'index': 0}])], tool_call_id='call_UKqbz9tJB5cvkrVmhAUAS2aU'),\n",
       "   '3.10.10')]}"
      ]
     },
     "execution_count": 12,
     "metadata": {},
     "output_type": "execute_result"
    }
   ],
   "source": [
    "response"
   ]
  },
  {
   "cell_type": "code",
   "execution_count": 13,
   "id": "b652facd",
   "metadata": {
    "scrolled": false
   },
   "outputs": [
    {
     "name": "stdout",
     "output_type": "stream",
     "text": [
      "\n",
      "\n",
      "\u001b[1m> Entering new AgentExecutor chain...\u001b[0m\n",
      "\u001b[32;1m\u001b[1;3m\n",
      "Invoking: `Introduction-to-Data-and-Data-Science-Course-Lectures` with `{'query': 'programming languages a data scientist should know'}`\n",
      "\n",
      "\n",
      "\u001b[0m\u001b[33;1m\u001b[1;3mWhat about big data? Apart from R and Python, people working in this area are often proficient in other languages like Java or Scala. These two have not been developed specifically for doing statistical analyses, however they turn out to be very useful when combining data from multiple sources. All right! Let’s finish off with machine learning. When it comes to machine learning, we often deal with big data\n",
      "\n",
      "More importantly, it will be sufficient for your need to create quick and accurate analyses. However, if your theoretical preparation is strong enough, you will find yourself restricted by software. Knowing a programming language such as R and Python, gives you the freedom to create specific, ad-hoc tools for each project you are working on\n",
      "\n",
      "Great! We hope we gave you a good idea about the level of applicability of the most frequently used programming and software tools in the field of data science. Thank you for watching!\u001b[0m\u001b[32;1m\u001b[1;3m\n",
      "Invoking: `wikipedia` with `R (programming language) creator`\n",
      "\n",
      "\n",
      "\u001b[0m\u001b[36;1m\u001b[1;3mPage: R (programming language)\n",
      "Summary: R is a programming language for statistical computing and data visualization. It has been adopted in the fields of data mining, bioinformatics, and data analysis.\n",
      "The core R language is augmented by a large number of extension packages, containing reusable code, documentation, and sample data.\n",
      "R software is open-source and free software. It is licensed by the GNU Project and available under the GNU General Public License. It is written primarily in C, Fortran, and R itself. Precompiled executables are provided for various operating systems.\n",
      "As an interpreted language, R has a native command line interface. Moreover, multiple third-party graphical user interfaces are available, such as RStudio—an integrated development environment—and Jupyter—a notebook interface.\n",
      "\n",
      "Page: History of programming languages\n",
      "Summary: The history of programming languages spans from documentation of early mechanical computers to modern tools for software development. Early programming languages were highly specialized, relying on mathematical notation and similarly obscure syntax. Throughout the 20th century, research in compiler theory led to the creation of high-level programming languages, which use a more accessible syntax to communicate instructions.\n",
      "The first high-level programming language was Plankalkül, created by Konrad Zuse between 1942 and 1945. The first high-level language to have an associated compiler was created by Corrado Böhm in 1951, for his PhD thesis. The first commercially available language was FORTRAN (FORmula TRANslation), developed in 1956 (first manual appeared in 1956, but first developed in 1954) by a team led by John Backus at IBM.\n",
      "\n",
      "Page: Esoteric programming language\n",
      "Summary: An esoteric programming language (sometimes shortened to esolang) is a programming language designed to test the boundaries of computer programming language design, as a proof of concept, as software art, as a hacking interface to another language (particularly functional programming or procedural programming languages), or as a joke. The use of the word esoteric distinguishes them from languages that working developers use to write software. The creators of most esolangs do not intend them to be used for mainstream programming, although some esoteric features, such as visuospatial syntax, have inspired practical applications in the arts. Such languages are often popular among hackers and hobbyists.\n",
      "Usability is rarely a goal for designers of esoteric programming languages; often their design leads to quite the opposite. Their usual aim is to remove or replace conventional language features while still maintaining a language that is Turing-complete, or even one for which the computational class is unknown.\n",
      "\n",
      "\u001b[0m\u001b[32;1m\u001b[1;3m\n",
      "Invoking: `wikipedia` with `Python programming language creator`\n",
      "\n",
      "\n",
      "\u001b[0m\u001b[36;1m\u001b[1;3mPage: Python (programming language)\n",
      "Summary: Python is a high-level, general-purpose programming language. Its design philosophy emphasizes code readability with the use of significant indentation.\n",
      "Python is dynamically typed and garbage-collected. It supports multiple programming paradigms, including structured (particularly procedural), object-oriented and functional programming. It is often described as a \"batteries included\" language due to its comprehensive standard library.\n",
      "Guido van Rossum began working on Python in the late 1980s as a successor to the ABC programming language and first released it in 1991 as Python 0.9.0. Python 2.0 was released in 2000. Python 3.0, released in 2008, was a major revision not completely backward-compatible with earlier versions. Python 2.7.18, released in 2020, was the last release of Python 2.\n",
      "Python consistently ranks as one of the most popular programming languages, and has gained widespread use in the machine learning community.\n",
      "\n",
      "\n",
      "\n",
      "Page: Guido van Rossum\n",
      "Summary: Guido van Rossum (Dutch: [ˈɣido vɑn ˈrɔsʏm, -səm]; born 31 January 1956) is a Dutch programmer. He is the creator of the Python programming language, for which he was the \"benevolent dictator for life\" (BDFL) until he stepped down from the position on 12 July 2018. He remained a member of the Python Steering Council through 2019, and withdrew from nominations for the 2020 election.\n",
      "\n",
      "\n",
      "\n",
      "Page: General-purpose programming language\n",
      "Summary: In computer software, a general-purpose programming language (GPL) is a programming language for building software in a wide variety of application domains. Conversely, a domain-specific programming language (DSL) is used within a specific area. For example, Python is a GPL, while SQL is a DSL for querying relational databases.\u001b[0m\u001b[32;1m\u001b[1;3m\n",
      "Invoking: `wikipedia` with `Java programming language creator`\n",
      "\n",
      "\n",
      "\u001b[0m\u001b[36;1m\u001b[1;3mPage: Java (programming language)\n",
      "Summary: Java is a high-level, class-based, object-oriented programming language that is designed to have as few implementation dependencies as possible. It is a general-purpose programming language intended to let programmers write once, run anywhere (WORA), meaning that compiled Java code can run on all platforms that support Java without the need to recompile. Java applications are typically compiled to bytecode that can run on any Java virtual machine (JVM) regardless of the underlying computer architecture. Although its syntax is similar to that of C and C++, the Java language has fewer low-level facilities than either of them. The Java runtime provides dynamic capabilities (such as reflection and runtime code modification) that are typically not available in traditional compiled languages. \n",
      "Java gained popularity shortly after its release, and has been a very popular programming language since then. Java was the third most popular programming language in 2022 according to GitHub. Although still widely popular, there has been a gradual decline in use of Java in recent years with other languages using JVM gaining popularity.\n",
      "Java was originally developed by James Gosling at Sun Microsystems. It was released in May 1995 as a core component of Sun's Java platform. The original and reference implementation Java compilers, virtual machines, and class libraries were originally released by Sun under proprietary licenses. As of May 2007, in compliance with the specifications of the Java Community Process, Sun had relicensed most of its Java technologies under the GPL-2.0-only license. Oracle offers its own HotSpot Java Virtual Machine, however the official reference implementation is the OpenJDK JVM which is free open-source software and used by most developers and is the default JVM for almost all Linux distributions.\n",
      "As of March 2024, Java 22 is the latest version. Java 8, 11, 17, and 21 are previous LTS versions still officially supported.\n",
      "\n",
      "\n",
      "\n",
      "Page: Kotlin (programming language)\n",
      "Summary: Kotlin () is a cross-platform, statically typed, general-purpose high-level programming language with type inference. Kotlin is designed to interoperate fully with Java, and the JVM version of Kotlin's standard library depends on the Java Class Library,\n",
      "but type inference allows its syntax to be more concise. Kotlin mainly targets the JVM, but also compiles to JavaScript (e.g., for frontend web applications using React) or native code via LLVM (e.g., for native iOS apps sharing business logic with Android apps). Language development costs are borne by JetBrains, while the Kotlin Foundation protects the Kotlin trademark.\n",
      "On 7 May 2019, Google announced that the Kotlin programming language was now its preferred language for Android app developers. Since the release of Android Studio 3.0 in October 2017, Kotlin has been included as an alternative to the standard Java compiler. The Android Kotlin compiler produces Java 8 bytecode by default (which runs in any later JVM), but lets the programmer choose to target Java 9 up to 20, for optimization, or allows for more features; has bidirectional record class interoperability support for JVM, introduced in Java 16, considered stable as of Kotlin 1.5.\n",
      "Kotlin has support for the web with Kotlin/JS, either through a classic interpreter-based backend which has been declared stable since version 1.3, or an intermediate representation-based backend which has been declared stable since version 1.8. Kotlin/Native (for e.g. Apple silicon support) is considered beta since version 1.3.\n",
      "\n",
      "Page: Scala (programming language)\n",
      "Summary: Scala ( SKAH-lah) is a strong statically typed high-level general-purpose programming language that supports both object-oriented programming and functional programming. Designed to be concise, many of Scala's design decisions are intended to address criticisms of Java.\n",
      "Scala source code can be compiled to Java bytecode and run on a Java virtual machine (\u001b[0m\u001b[32;1m\u001b[1;3m\n",
      "Invoking: `wikipedia` with `Scala programming language creator`\n",
      "\n",
      "\n"
     ]
    },
    {
     "name": "stdout",
     "output_type": "stream",
     "text": [
      "\u001b[0m\u001b[36;1m\u001b[1;3mPage: Scala (programming language)\n",
      "Summary: Scala ( SKAH-lah) is a strong statically typed high-level general-purpose programming language that supports both object-oriented programming and functional programming. Designed to be concise, many of Scala's design decisions are intended to address criticisms of Java.\n",
      "Scala source code can be compiled to Java bytecode and run on a Java virtual machine (JVM). Scala can also be transpiled to JavaScript to run in a browser, or compiled directly to a native executable. When running on the JVM, Scala provides language interoperability with Java so that libraries written in either language may be referenced directly in Scala or Java code. Like Java, Scala is object-oriented, and uses a syntax termed curly-brace which is similar to the language C. Since Scala 3, there is also an option to use the off-side rule (indenting) to structure blocks, and its use is advised. Martin Odersky has said that this turned out to be the most productive change introduced in Scala 3.\n",
      "Unlike Java, Scala has many features of functional programming languages (like Scheme, Standard ML, and Haskell), including currying, immutability, lazy evaluation, and pattern matching. It also has an advanced type system supporting algebraic data types, covariance and contravariance, higher-order types (but not higher-rank types), anonymous types, operator overloading, optional parameters, named parameters, raw strings, and an experimental exception-only version of algebraic effects that can be seen as a more powerful version of Java's checked exceptions.\n",
      "The name Scala is a portmanteau of scalable and language, signifying that it is designed to grow with the demands of its users.\n",
      "\n",
      "Page: History of programming languages\n",
      "Summary: The history of programming languages spans from documentation of early mechanical computers to modern tools for software development. Early programming languages were highly specialized, relying on mathematical notation and similarly obscure syntax. Throughout the 20th century, research in compiler theory led to the creation of high-level programming languages, which use a more accessible syntax to communicate instructions.\n",
      "The first high-level programming language was Plankalkül, created by Konrad Zuse between 1942 and 1945. The first high-level language to have an associated compiler was created by Corrado Böhm in 1951, for his PhD thesis. The first commercially available language was FORTRAN (FORmula TRANslation), developed in 1956 (first manual appeared in 1956, but first developed in 1954) by a team led by John Backus at IBM.\n",
      "\n",
      "Page: Kotlin (programming language)\n",
      "Summary: Kotlin () is a cross-platform, statically typed, general-purpose high-level programming language with type inference. Kotlin is designed to interoperate fully with Java, and the JVM version of Kotlin's standard library depends on the Java Class Library,\n",
      "but type inference allows its syntax to be more concise. Kotlin mainly targets the JVM, but also compiles to JavaScript (e.g., for frontend web applications using React) or native code via LLVM (e.g., for native iOS apps sharing business logic with Android apps). Language development costs are borne by JetBrains, while the Kotlin Foundation protects the Kotlin trademark.\n",
      "On 7 May 2019, Google announced that the Kotlin programming language was now its preferred language for Android app developers. Since the release of Android Studio 3.0 in October 2017, Kotlin has been included as an alternative to the standard Java compiler. The Android Kotlin compiler produces Java 8 bytecode by default (which runs in any later JVM), but lets the programmer choose to target Java 9 up to 20, for optimization, or allows for more features; has bidirectional record class interoperability support for JVM, introduced in Java 16, considered stable as of Kotlin 1.5.\n",
      "Kotlin has support for the web with Kotlin/JS, either through a classic interpreter-based backend which has been declared stable since versi\u001b[0m\u001b[32;1m\u001b[1;3mBased on the Introduction to Data and Data Science course, a data scientist should be proficient in the following programming languages and their creators:\n",
      "\n",
      "1. **R** - R is a programming language for statistical computing and graphics. The creators of R are Ross Ihaka and Robert Gentleman.\n",
      "2. **Python** - Python is a high-level, general-purpose programming language designed for code readability. It was created by Guido van Rossum, who began working on Python in the late 1980s.\n",
      "3. **Java** - Java is a high-level, class-based, object-oriented programming language designed to have as few implementation dependencies as possible. It was developed by James Gosling at Sun Microsystems and released in 1995.\n",
      "4. **Scala** - Scala is a high-level general-purpose programming language that supports both object-oriented programming and functional programming. It was created by Martin Odersky and was released in 2003.\n",
      "\n",
      "These languages are essential for data scientists, especially when working with big data and machine learning, as they offer a range of functionalities from statistical analysis to building scalable data applications.\u001b[0m\n",
      "\n",
      "\u001b[1m> Finished chain.\u001b[0m\n"
     ]
    }
   ],
   "source": [
    "response = agent_executor.invoke({\"input\":'''\n",
    "I’m currently following the Introduction to Data and Data Science course. \n",
    "Could you list the programming languages a data scientist should know? \n",
    "Additionally, could you tell me who their creators are?\n",
    "'''})"
   ]
  },
  {
   "cell_type": "code",
   "execution_count": 14,
   "id": "e3e7ab5a",
   "metadata": {},
   "outputs": [
    {
     "data": {
      "text/plain": [
       "{'input': '\\nI’m currently following the Introduction to Data and Data Science course. \\nCould you list the programming languages a data scientist should know? \\nAdditionally, could you tell me who their creators are?\\n',\n",
       " 'output': 'Based on the Introduction to Data and Data Science course, a data scientist should be proficient in the following programming languages and their creators:\\n\\n1. **R** - R is a programming language for statistical computing and graphics. The creators of R are Ross Ihaka and Robert Gentleman.\\n2. **Python** - Python is a high-level, general-purpose programming language designed for code readability. It was created by Guido van Rossum, who began working on Python in the late 1980s.\\n3. **Java** - Java is a high-level, class-based, object-oriented programming language designed to have as few implementation dependencies as possible. It was developed by James Gosling at Sun Microsystems and released in 1995.\\n4. **Scala** - Scala is a high-level general-purpose programming language that supports both object-oriented programming and functional programming. It was created by Martin Odersky and was released in 2003.\\n\\nThese languages are essential for data scientists, especially when working with big data and machine learning, as they offer a range of functionalities from statistical analysis to building scalable data applications.',\n",
       " 'intermediate_steps': [(ToolAgentAction(tool='Introduction-to-Data-and-Data-Science-Course-Lectures', tool_input={'query': 'programming languages a data scientist should know'}, log=\"\\nInvoking: `Introduction-to-Data-and-Data-Science-Course-Lectures` with `{'query': 'programming languages a data scientist should know'}`\\n\\n\\n\", message_log=[AIMessageChunk(content='', additional_kwargs={'tool_calls': [{'index': 0, 'id': 'call_utk2gW9Z08pwEDM5ooL9hEkD', 'function': {'arguments': '{\"query\":\"programming languages a data scientist should know\"}', 'name': 'Introduction-to-Data-and-Data-Science-Course-Lectures'}, 'type': 'function'}]}, response_metadata={'finish_reason': 'tool_calls'}, id='run-86bb568a-129d-4d90-889b-93698a8e8d34', tool_calls=[{'name': 'Introduction-to-Data-and-Data-Science-Course-Lectures', 'args': {'query': 'programming languages a data scientist should know'}, 'id': 'call_utk2gW9Z08pwEDM5ooL9hEkD'}], tool_call_chunks=[{'name': 'Introduction-to-Data-and-Data-Science-Course-Lectures', 'args': '{\"query\":\"programming languages a data scientist should know\"}', 'id': 'call_utk2gW9Z08pwEDM5ooL9hEkD', 'index': 0}])], tool_call_id='call_utk2gW9Z08pwEDM5ooL9hEkD'),\n",
       "   'What about big data? Apart from R and Python, people working in this area are often proficient in other languages like Java or Scala. These two have not been developed specifically for doing statistical analyses, however they turn out to be very useful when combining data from multiple sources. All right! Let’s finish off with machine learning. When it comes to machine learning, we often deal with big data\\n\\nMore importantly, it will be sufficient for your need to create quick and accurate analyses. However, if your theoretical preparation is strong enough, you will find yourself restricted by software. Knowing a programming language such as R and Python, gives you the freedom to create specific, ad-hoc tools for each project you are working on\\n\\nGreat! We hope we gave you a good idea about the level of applicability of the most frequently used programming and software tools in the field of data science. Thank you for watching!'),\n",
       "  (ToolAgentAction(tool='wikipedia', tool_input='R (programming language) creator', log='\\nInvoking: `wikipedia` with `R (programming language) creator`\\n\\n\\n', message_log=[AIMessageChunk(content='', additional_kwargs={'tool_calls': [{'index': 0, 'id': 'call_zVOpX9JaDsO8bk0JfkpiMizl', 'function': {'arguments': '{\"__arg1\": \"R (programming language) creator\"}', 'name': 'wikipedia'}, 'type': 'function'}, {'index': 1, 'id': 'call_uvEZcHR5zPHVe9HwHxd9xZ9a', 'function': {'arguments': '{\"__arg1\": \"Python programming language creator\"}', 'name': 'wikipedia'}, 'type': 'function'}, {'index': 2, 'id': 'call_aKA7SzDDI6f1IwMMv96qxgz7', 'function': {'arguments': '{\"__arg1\": \"Java programming language creator\"}', 'name': 'wikipedia'}, 'type': 'function'}, {'index': 3, 'id': 'call_Dj32cIoXk64rgQO2DXjwEuhN', 'function': {'arguments': '{\"__arg1\": \"Scala programming language creator\"}', 'name': 'wikipedia'}, 'type': 'function'}]}, response_metadata={'finish_reason': 'tool_calls'}, id='run-5b034287-a5e9-4ffd-99e0-e3a60ba4719d', tool_calls=[{'name': 'wikipedia', 'args': {'__arg1': 'R (programming language) creator'}, 'id': 'call_zVOpX9JaDsO8bk0JfkpiMizl'}, {'name': 'wikipedia', 'args': {'__arg1': 'Python programming language creator'}, 'id': 'call_uvEZcHR5zPHVe9HwHxd9xZ9a'}, {'name': 'wikipedia', 'args': {'__arg1': 'Java programming language creator'}, 'id': 'call_aKA7SzDDI6f1IwMMv96qxgz7'}, {'name': 'wikipedia', 'args': {'__arg1': 'Scala programming language creator'}, 'id': 'call_Dj32cIoXk64rgQO2DXjwEuhN'}], tool_call_chunks=[{'name': 'wikipedia', 'args': '{\"__arg1\": \"R (programming language) creator\"}', 'id': 'call_zVOpX9JaDsO8bk0JfkpiMizl', 'index': 0}, {'name': 'wikipedia', 'args': '{\"__arg1\": \"Python programming language creator\"}', 'id': 'call_uvEZcHR5zPHVe9HwHxd9xZ9a', 'index': 1}, {'name': 'wikipedia', 'args': '{\"__arg1\": \"Java programming language creator\"}', 'id': 'call_aKA7SzDDI6f1IwMMv96qxgz7', 'index': 2}, {'name': 'wikipedia', 'args': '{\"__arg1\": \"Scala programming language creator\"}', 'id': 'call_Dj32cIoXk64rgQO2DXjwEuhN', 'index': 3}])], tool_call_id='call_zVOpX9JaDsO8bk0JfkpiMizl'),\n",
       "   'Page: R (programming language)\\nSummary: R is a programming language for statistical computing and data visualization. It has been adopted in the fields of data mining, bioinformatics, and data analysis.\\nThe core R language is augmented by a large number of extension packages, containing reusable code, documentation, and sample data.\\nR software is open-source and free software. It is licensed by the GNU Project and available under the GNU General Public License. It is written primarily in C, Fortran, and R itself. Precompiled executables are provided for various operating systems.\\nAs an interpreted language, R has a native command line interface. Moreover, multiple third-party graphical user interfaces are available, such as RStudio—an integrated development environment—and Jupyter—a notebook interface.\\n\\nPage: History of programming languages\\nSummary: The history of programming languages spans from documentation of early mechanical computers to modern tools for software development. Early programming languages were highly specialized, relying on mathematical notation and similarly obscure syntax. Throughout the 20th century, research in compiler theory led to the creation of high-level programming languages, which use a more accessible syntax to communicate instructions.\\nThe first high-level programming language was Plankalkül, created by Konrad Zuse between 1942 and 1945. The first high-level language to have an associated compiler was created by Corrado Böhm in 1951, for his PhD thesis. The first commercially available language was FORTRAN (FORmula TRANslation), developed in 1956 (first manual appeared in 1956, but first developed in 1954) by a team led by John Backus at IBM.\\n\\nPage: Esoteric programming language\\nSummary: An esoteric programming language (sometimes shortened to esolang) is a programming language designed to test the boundaries of computer programming language design, as a proof of concept, as software art, as a hacking interface to another language (particularly functional programming or procedural programming languages), or as a joke. The use of the word esoteric distinguishes them from languages that working developers use to write software. The creators of most esolangs do not intend them to be used for mainstream programming, although some esoteric features, such as visuospatial syntax, have inspired practical applications in the arts. Such languages are often popular among hackers and hobbyists.\\nUsability is rarely a goal for designers of esoteric programming languages; often their design leads to quite the opposite. Their usual aim is to remove or replace conventional language features while still maintaining a language that is Turing-complete, or even one for which the computational class is unknown.\\n\\n'),\n",
       "  (ToolAgentAction(tool='wikipedia', tool_input='Python programming language creator', log='\\nInvoking: `wikipedia` with `Python programming language creator`\\n\\n\\n', message_log=[AIMessageChunk(content='', additional_kwargs={'tool_calls': [{'index': 0, 'id': 'call_zVOpX9JaDsO8bk0JfkpiMizl', 'function': {'arguments': '{\"__arg1\": \"R (programming language) creator\"}', 'name': 'wikipedia'}, 'type': 'function'}, {'index': 1, 'id': 'call_uvEZcHR5zPHVe9HwHxd9xZ9a', 'function': {'arguments': '{\"__arg1\": \"Python programming language creator\"}', 'name': 'wikipedia'}, 'type': 'function'}, {'index': 2, 'id': 'call_aKA7SzDDI6f1IwMMv96qxgz7', 'function': {'arguments': '{\"__arg1\": \"Java programming language creator\"}', 'name': 'wikipedia'}, 'type': 'function'}, {'index': 3, 'id': 'call_Dj32cIoXk64rgQO2DXjwEuhN', 'function': {'arguments': '{\"__arg1\": \"Scala programming language creator\"}', 'name': 'wikipedia'}, 'type': 'function'}]}, response_metadata={'finish_reason': 'tool_calls'}, id='run-5b034287-a5e9-4ffd-99e0-e3a60ba4719d', tool_calls=[{'name': 'wikipedia', 'args': {'__arg1': 'R (programming language) creator'}, 'id': 'call_zVOpX9JaDsO8bk0JfkpiMizl'}, {'name': 'wikipedia', 'args': {'__arg1': 'Python programming language creator'}, 'id': 'call_uvEZcHR5zPHVe9HwHxd9xZ9a'}, {'name': 'wikipedia', 'args': {'__arg1': 'Java programming language creator'}, 'id': 'call_aKA7SzDDI6f1IwMMv96qxgz7'}, {'name': 'wikipedia', 'args': {'__arg1': 'Scala programming language creator'}, 'id': 'call_Dj32cIoXk64rgQO2DXjwEuhN'}], tool_call_chunks=[{'name': 'wikipedia', 'args': '{\"__arg1\": \"R (programming language) creator\"}', 'id': 'call_zVOpX9JaDsO8bk0JfkpiMizl', 'index': 0}, {'name': 'wikipedia', 'args': '{\"__arg1\": \"Python programming language creator\"}', 'id': 'call_uvEZcHR5zPHVe9HwHxd9xZ9a', 'index': 1}, {'name': 'wikipedia', 'args': '{\"__arg1\": \"Java programming language creator\"}', 'id': 'call_aKA7SzDDI6f1IwMMv96qxgz7', 'index': 2}, {'name': 'wikipedia', 'args': '{\"__arg1\": \"Scala programming language creator\"}', 'id': 'call_Dj32cIoXk64rgQO2DXjwEuhN', 'index': 3}])], tool_call_id='call_uvEZcHR5zPHVe9HwHxd9xZ9a'),\n",
       "   'Page: Python (programming language)\\nSummary: Python is a high-level, general-purpose programming language. Its design philosophy emphasizes code readability with the use of significant indentation.\\nPython is dynamically typed and garbage-collected. It supports multiple programming paradigms, including structured (particularly procedural), object-oriented and functional programming. It is often described as a \"batteries included\" language due to its comprehensive standard library.\\nGuido van Rossum began working on Python in the late 1980s as a successor to the ABC programming language and first released it in 1991 as Python 0.9.0. Python 2.0 was released in 2000. Python 3.0, released in 2008, was a major revision not completely backward-compatible with earlier versions. Python 2.7.18, released in 2020, was the last release of Python 2.\\nPython consistently ranks as one of the most popular programming languages, and has gained widespread use in the machine learning community.\\n\\n\\n\\nPage: Guido van Rossum\\nSummary: Guido van Rossum (Dutch: [ˈɣido vɑn ˈrɔsʏm, -səm]; born 31 January 1956) is a Dutch programmer. He is the creator of the Python programming language, for which he was the \"benevolent dictator for life\" (BDFL) until he stepped down from the position on 12 July 2018. He remained a member of the Python Steering Council through 2019, and withdrew from nominations for the 2020 election.\\n\\n\\n\\nPage: General-purpose programming language\\nSummary: In computer software, a general-purpose programming language (GPL) is a programming language for building software in a wide variety of application domains. Conversely, a domain-specific programming language (DSL) is used within a specific area. For example, Python is a GPL, while SQL is a DSL for querying relational databases.'),\n",
       "  (ToolAgentAction(tool='wikipedia', tool_input='Java programming language creator', log='\\nInvoking: `wikipedia` with `Java programming language creator`\\n\\n\\n', message_log=[AIMessageChunk(content='', additional_kwargs={'tool_calls': [{'index': 0, 'id': 'call_zVOpX9JaDsO8bk0JfkpiMizl', 'function': {'arguments': '{\"__arg1\": \"R (programming language) creator\"}', 'name': 'wikipedia'}, 'type': 'function'}, {'index': 1, 'id': 'call_uvEZcHR5zPHVe9HwHxd9xZ9a', 'function': {'arguments': '{\"__arg1\": \"Python programming language creator\"}', 'name': 'wikipedia'}, 'type': 'function'}, {'index': 2, 'id': 'call_aKA7SzDDI6f1IwMMv96qxgz7', 'function': {'arguments': '{\"__arg1\": \"Java programming language creator\"}', 'name': 'wikipedia'}, 'type': 'function'}, {'index': 3, 'id': 'call_Dj32cIoXk64rgQO2DXjwEuhN', 'function': {'arguments': '{\"__arg1\": \"Scala programming language creator\"}', 'name': 'wikipedia'}, 'type': 'function'}]}, response_metadata={'finish_reason': 'tool_calls'}, id='run-5b034287-a5e9-4ffd-99e0-e3a60ba4719d', tool_calls=[{'name': 'wikipedia', 'args': {'__arg1': 'R (programming language) creator'}, 'id': 'call_zVOpX9JaDsO8bk0JfkpiMizl'}, {'name': 'wikipedia', 'args': {'__arg1': 'Python programming language creator'}, 'id': 'call_uvEZcHR5zPHVe9HwHxd9xZ9a'}, {'name': 'wikipedia', 'args': {'__arg1': 'Java programming language creator'}, 'id': 'call_aKA7SzDDI6f1IwMMv96qxgz7'}, {'name': 'wikipedia', 'args': {'__arg1': 'Scala programming language creator'}, 'id': 'call_Dj32cIoXk64rgQO2DXjwEuhN'}], tool_call_chunks=[{'name': 'wikipedia', 'args': '{\"__arg1\": \"R (programming language) creator\"}', 'id': 'call_zVOpX9JaDsO8bk0JfkpiMizl', 'index': 0}, {'name': 'wikipedia', 'args': '{\"__arg1\": \"Python programming language creator\"}', 'id': 'call_uvEZcHR5zPHVe9HwHxd9xZ9a', 'index': 1}, {'name': 'wikipedia', 'args': '{\"__arg1\": \"Java programming language creator\"}', 'id': 'call_aKA7SzDDI6f1IwMMv96qxgz7', 'index': 2}, {'name': 'wikipedia', 'args': '{\"__arg1\": \"Scala programming language creator\"}', 'id': 'call_Dj32cIoXk64rgQO2DXjwEuhN', 'index': 3}])], tool_call_id='call_aKA7SzDDI6f1IwMMv96qxgz7'),\n",
       "   \"Page: Java (programming language)\\nSummary: Java is a high-level, class-based, object-oriented programming language that is designed to have as few implementation dependencies as possible. It is a general-purpose programming language intended to let programmers write once, run anywhere (WORA), meaning that compiled Java code can run on all platforms that support Java without the need to recompile. Java applications are typically compiled to bytecode that can run on any Java virtual machine (JVM) regardless of the underlying computer architecture. Although its syntax is similar to that of C and C++, the Java language has fewer low-level facilities than either of them. The Java runtime provides dynamic capabilities (such as reflection and runtime code modification) that are typically not available in traditional compiled languages. \\nJava gained popularity shortly after its release, and has been a very popular programming language since then. Java was the third most popular programming language in 2022 according to GitHub. Although still widely popular, there has been a gradual decline in use of Java in recent years with other languages using JVM gaining popularity.\\nJava was originally developed by James Gosling at Sun Microsystems. It was released in May 1995 as a core component of Sun's Java platform. The original and reference implementation Java compilers, virtual machines, and class libraries were originally released by Sun under proprietary licenses. As of May 2007, in compliance with the specifications of the Java Community Process, Sun had relicensed most of its Java technologies under the GPL-2.0-only license. Oracle offers its own HotSpot Java Virtual Machine, however the official reference implementation is the OpenJDK JVM which is free open-source software and used by most developers and is the default JVM for almost all Linux distributions.\\nAs of March 2024, Java 22 is the latest version. Java 8, 11, 17, and 21 are previous LTS versions still officially supported.\\n\\n\\n\\nPage: Kotlin (programming language)\\nSummary: Kotlin () is a cross-platform, statically typed, general-purpose high-level programming language with type inference. Kotlin is designed to interoperate fully with Java, and the JVM version of Kotlin's standard library depends on the Java Class Library,\\nbut type inference allows its syntax to be more concise. Kotlin mainly targets the JVM, but also compiles to JavaScript (e.g., for frontend web applications using React) or native code via LLVM (e.g., for native iOS apps sharing business logic with Android apps). Language development costs are borne by JetBrains, while the Kotlin Foundation protects the Kotlin trademark.\\nOn 7 May 2019, Google announced that the Kotlin programming language was now its preferred language for Android app developers. Since the release of Android Studio 3.0 in October 2017, Kotlin has been included as an alternative to the standard Java compiler. The Android Kotlin compiler produces Java 8 bytecode by default (which runs in any later JVM), but lets the programmer choose to target Java 9 up to 20, for optimization, or allows for more features; has bidirectional record class interoperability support for JVM, introduced in Java 16, considered stable as of Kotlin 1.5.\\nKotlin has support for the web with Kotlin/JS, either through a classic interpreter-based backend which has been declared stable since version 1.3, or an intermediate representation-based backend which has been declared stable since version 1.8. Kotlin/Native (for e.g. Apple silicon support) is considered beta since version 1.3.\\n\\nPage: Scala (programming language)\\nSummary: Scala ( SKAH-lah) is a strong statically typed high-level general-purpose programming language that supports both object-oriented programming and functional programming. Designed to be concise, many of Scala's design decisions are intended to address criticisms of Java.\\nScala source code can be compiled to Java bytecode and run on a Java virtual machine (\"),\n",
       "  (ToolAgentAction(tool='wikipedia', tool_input='Scala programming language creator', log='\\nInvoking: `wikipedia` with `Scala programming language creator`\\n\\n\\n', message_log=[AIMessageChunk(content='', additional_kwargs={'tool_calls': [{'index': 0, 'id': 'call_zVOpX9JaDsO8bk0JfkpiMizl', 'function': {'arguments': '{\"__arg1\": \"R (programming language) creator\"}', 'name': 'wikipedia'}, 'type': 'function'}, {'index': 1, 'id': 'call_uvEZcHR5zPHVe9HwHxd9xZ9a', 'function': {'arguments': '{\"__arg1\": \"Python programming language creator\"}', 'name': 'wikipedia'}, 'type': 'function'}, {'index': 2, 'id': 'call_aKA7SzDDI6f1IwMMv96qxgz7', 'function': {'arguments': '{\"__arg1\": \"Java programming language creator\"}', 'name': 'wikipedia'}, 'type': 'function'}, {'index': 3, 'id': 'call_Dj32cIoXk64rgQO2DXjwEuhN', 'function': {'arguments': '{\"__arg1\": \"Scala programming language creator\"}', 'name': 'wikipedia'}, 'type': 'function'}]}, response_metadata={'finish_reason': 'tool_calls'}, id='run-5b034287-a5e9-4ffd-99e0-e3a60ba4719d', tool_calls=[{'name': 'wikipedia', 'args': {'__arg1': 'R (programming language) creator'}, 'id': 'call_zVOpX9JaDsO8bk0JfkpiMizl'}, {'name': 'wikipedia', 'args': {'__arg1': 'Python programming language creator'}, 'id': 'call_uvEZcHR5zPHVe9HwHxd9xZ9a'}, {'name': 'wikipedia', 'args': {'__arg1': 'Java programming language creator'}, 'id': 'call_aKA7SzDDI6f1IwMMv96qxgz7'}, {'name': 'wikipedia', 'args': {'__arg1': 'Scala programming language creator'}, 'id': 'call_Dj32cIoXk64rgQO2DXjwEuhN'}], tool_call_chunks=[{'name': 'wikipedia', 'args': '{\"__arg1\": \"R (programming language) creator\"}', 'id': 'call_zVOpX9JaDsO8bk0JfkpiMizl', 'index': 0}, {'name': 'wikipedia', 'args': '{\"__arg1\": \"Python programming language creator\"}', 'id': 'call_uvEZcHR5zPHVe9HwHxd9xZ9a', 'index': 1}, {'name': 'wikipedia', 'args': '{\"__arg1\": \"Java programming language creator\"}', 'id': 'call_aKA7SzDDI6f1IwMMv96qxgz7', 'index': 2}, {'name': 'wikipedia', 'args': '{\"__arg1\": \"Scala programming language creator\"}', 'id': 'call_Dj32cIoXk64rgQO2DXjwEuhN', 'index': 3}])], tool_call_id='call_Dj32cIoXk64rgQO2DXjwEuhN'),\n",
       "   \"Page: Scala (programming language)\\nSummary: Scala ( SKAH-lah) is a strong statically typed high-level general-purpose programming language that supports both object-oriented programming and functional programming. Designed to be concise, many of Scala's design decisions are intended to address criticisms of Java.\\nScala source code can be compiled to Java bytecode and run on a Java virtual machine (JVM). Scala can also be transpiled to JavaScript to run in a browser, or compiled directly to a native executable. When running on the JVM, Scala provides language interoperability with Java so that libraries written in either language may be referenced directly in Scala or Java code. Like Java, Scala is object-oriented, and uses a syntax termed curly-brace which is similar to the language C. Since Scala 3, there is also an option to use the off-side rule (indenting) to structure blocks, and its use is advised. Martin Odersky has said that this turned out to be the most productive change introduced in Scala 3.\\nUnlike Java, Scala has many features of functional programming languages (like Scheme, Standard ML, and Haskell), including currying, immutability, lazy evaluation, and pattern matching. It also has an advanced type system supporting algebraic data types, covariance and contravariance, higher-order types (but not higher-rank types), anonymous types, operator overloading, optional parameters, named parameters, raw strings, and an experimental exception-only version of algebraic effects that can be seen as a more powerful version of Java's checked exceptions.\\nThe name Scala is a portmanteau of scalable and language, signifying that it is designed to grow with the demands of its users.\\n\\nPage: History of programming languages\\nSummary: The history of programming languages spans from documentation of early mechanical computers to modern tools for software development. Early programming languages were highly specialized, relying on mathematical notation and similarly obscure syntax. Throughout the 20th century, research in compiler theory led to the creation of high-level programming languages, which use a more accessible syntax to communicate instructions.\\nThe first high-level programming language was Plankalkül, created by Konrad Zuse between 1942 and 1945. The first high-level language to have an associated compiler was created by Corrado Böhm in 1951, for his PhD thesis. The first commercially available language was FORTRAN (FORmula TRANslation), developed in 1956 (first manual appeared in 1956, but first developed in 1954) by a team led by John Backus at IBM.\\n\\nPage: Kotlin (programming language)\\nSummary: Kotlin () is a cross-platform, statically typed, general-purpose high-level programming language with type inference. Kotlin is designed to interoperate fully with Java, and the JVM version of Kotlin's standard library depends on the Java Class Library,\\nbut type inference allows its syntax to be more concise. Kotlin mainly targets the JVM, but also compiles to JavaScript (e.g., for frontend web applications using React) or native code via LLVM (e.g., for native iOS apps sharing business logic with Android apps). Language development costs are borne by JetBrains, while the Kotlin Foundation protects the Kotlin trademark.\\nOn 7 May 2019, Google announced that the Kotlin programming language was now its preferred language for Android app developers. Since the release of Android Studio 3.0 in October 2017, Kotlin has been included as an alternative to the standard Java compiler. The Android Kotlin compiler produces Java 8 bytecode by default (which runs in any later JVM), but lets the programmer choose to target Java 9 up to 20, for optimization, or allows for more features; has bidirectional record class interoperability support for JVM, introduced in Java 16, considered stable as of Kotlin 1.5.\\nKotlin has support for the web with Kotlin/JS, either through a classic interpreter-based backend which has been declared stable since versi\")]}"
      ]
     },
     "execution_count": 14,
     "metadata": {},
     "output_type": "execute_result"
    }
   ],
   "source": [
    "response"
   ]
  },
  {
   "cell_type": "code",
   "execution_count": null,
   "id": "15de6a25",
   "metadata": {},
   "outputs": [],
   "source": []
  },
  {
   "cell_type": "code",
   "execution_count": null,
   "id": "badd54de",
   "metadata": {},
   "outputs": [],
   "source": []
  },
  {
   "cell_type": "code",
   "execution_count": null,
   "id": "b966ca16",
   "metadata": {},
   "outputs": [],
   "source": []
  },
  {
   "cell_type": "code",
   "execution_count": null,
   "id": "3d64b892",
   "metadata": {},
   "outputs": [],
   "source": []
  },
  {
   "cell_type": "code",
   "execution_count": null,
   "id": "5b47f8da",
   "metadata": {},
   "outputs": [],
   "source": []
  }
 ],
 "metadata": {
  "kernelspec": {
   "display_name": "langchain_env",
   "language": "python",
   "name": "langchain_env"
  },
  "language_info": {
   "codemirror_mode": {
    "name": "ipython",
    "version": 3
   },
   "file_extension": ".py",
   "mimetype": "text/x-python",
   "name": "python",
   "nbconvert_exporter": "python",
   "pygments_lexer": "ipython3",
   "version": "3.10.10"
  }
 },
 "nbformat": 4,
 "nbformat_minor": 5
}
