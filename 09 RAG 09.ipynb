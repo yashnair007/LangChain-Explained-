{
 "cells": [
  {
   "cell_type": "markdown",
   "id": "20632ae7",
   "metadata": {},
   "source": [
    "# Indexing: Document Splitting with Character Text Splitter (Code Along)"
   ]
  },
  {
   "cell_type": "code",
   "execution_count": null,
   "id": "a76110bb-ee1c-4802-b9c1-f587f2a2ba53",
   "metadata": {},
   "outputs": [],
   "source": [
    "# Run the line of code below to check the version of langchain in the current environment.\n",
    "# Substitute \"langchain\" with any other package name to check their version."
   ]
  },
  {
   "cell_type": "code",
   "execution_count": null,
   "id": "dafab232-736f-4ffe-922d-74ab03216d16",
   "metadata": {},
   "outputs": [],
   "source": [
    "pip show langchain"
   ]
  },
  {
   "cell_type": "code",
   "execution_count": null,
   "id": "b6a08b52",
   "metadata": {},
   "outputs": [],
   "source": [
    "from langchain_community.document_loaders import Docx2txtLoader\n",
    "from langchain_text_splitters.character import CharacterTextSplitter"
   ]
  },
  {
   "cell_type": "code",
   "execution_count": null,
   "id": "4706d4f2",
   "metadata": {},
   "outputs": [],
   "source": [
    "loader = Docx2txtLoader(\"Introduction_to_Data_and_Data_Science.docx\")\n",
    "pages = loader.load()\n",
    "for i in range(len(pages)):\n",
    "    pages[i].page_content = ' '.join(pages[i].page_content.split())"
   ]
  },
  {
   "cell_type": "code",
   "execution_count": null,
   "id": "8a502423",
   "metadata": {
    "scrolled": true
   },
   "outputs": [],
   "source": [
    "len(pages[0].page_content)"
   ]
  },
  {
   "cell_type": "code",
   "execution_count": null,
   "id": "a5ba32a0",
   "metadata": {
    "scrolled": true
   },
   "outputs": [],
   "source": [
    "char_splitter = CharacterTextSplitter(separator = \".\", \n",
    "                                      chunk_size = 500, \n",
    "                                      chunk_overlap = 50)"
   ]
  },
  {
   "cell_type": "code",
   "execution_count": null,
   "id": "912bf985",
   "metadata": {},
   "outputs": [],
   "source": [
    "pages_char_split = char_splitter.split_documents(pages)"
   ]
  },
  {
   "cell_type": "code",
   "execution_count": null,
   "id": "ce38a797",
   "metadata": {},
   "outputs": [],
   "source": [
    "len(pages_char_split)"
   ]
  },
  {
   "cell_type": "code",
   "execution_count": null,
   "id": "af72b6d8",
   "metadata": {},
   "outputs": [],
   "source": [
    "pages_char_split[0].page_content"
   ]
  },
  {
   "cell_type": "code",
   "execution_count": null,
   "id": "d53db8db",
   "metadata": {},
   "outputs": [],
   "source": [
    "8259/500"
   ]
  },
  {
   "cell_type": "code",
   "execution_count": null,
   "id": "58b647d8",
   "metadata": {},
   "outputs": [],
   "source": [
    "0.518*500"
   ]
  },
  {
   "cell_type": "code",
   "execution_count": null,
   "id": "5d125185",
   "metadata": {
    "scrolled": true
   },
   "outputs": [],
   "source": [
    "len(pages_char_split[16].page_content)"
   ]
  },
  {
   "cell_type": "code",
   "execution_count": null,
   "id": "3d290816",
   "metadata": {},
   "outputs": [],
   "source": []
  },
  {
   "cell_type": "code",
   "execution_count": null,
   "id": "b89589e7",
   "metadata": {},
   "outputs": [],
   "source": []
  }
 ],
 "metadata": {
  "kernelspec": {
   "display_name": "langchain_env",
   "language": "python",
   "name": "langchain_env"
  },
  "language_info": {
   "codemirror_mode": {
    "name": "ipython",
    "version": 3
   },
   "file_extension": ".py",
   "mimetype": "text/x-python",
   "name": "python",
   "nbconvert_exporter": "python",
   "pygments_lexer": "ipython3",
   "version": "3.10.10"
  }
 },
 "nbformat": 4,
 "nbformat_minor": 5
}
