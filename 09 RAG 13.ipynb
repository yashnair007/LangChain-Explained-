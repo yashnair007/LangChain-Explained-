{
 "cells": [
  {
   "cell_type": "markdown",
   "id": "728eaa25",
   "metadata": {},
   "source": [
    "# Indexing: Inspecting and Managing Documents in a Vectorstore"
   ]
  },
  {
   "cell_type": "code",
   "execution_count": null,
   "id": "e9dc7cef-7575-448d-b910-edfa8c6cf7f3",
   "metadata": {},
   "outputs": [],
   "source": [
    "# Run the line of code below to check the version of langchain in the current environment.\n",
    "# Substitute \"langchain\" with any other package name to check their version."
   ]
  },
  {
   "cell_type": "code",
   "execution_count": null,
   "id": "5dad7e54-34ea-47c3-9d3a-9f63eade5411",
   "metadata": {},
   "outputs": [],
   "source": [
    "pip show langchain"
   ]
  },
  {
   "cell_type": "code",
   "execution_count": null,
   "id": "0d8b476a",
   "metadata": {},
   "outputs": [],
   "source": [
    "%load_ext dotenv\n",
    "%dotenv"
   ]
  },
  {
   "cell_type": "code",
   "execution_count": null,
   "id": "658083c5",
   "metadata": {},
   "outputs": [],
   "source": [
    "from langchain_openai.embeddings import OpenAIEmbeddings\n",
    "from langchain_community.vectorstores import Chroma\n",
    "from langchain_core.documents import Document"
   ]
  },
  {
   "cell_type": "code",
   "execution_count": null,
   "id": "ddce29e1",
   "metadata": {},
   "outputs": [],
   "source": [
    "embedding = OpenAIEmbeddings(model='text-embedding-ada-002')"
   ]
  },
  {
   "cell_type": "code",
   "execution_count": null,
   "id": "57a69483",
   "metadata": {},
   "outputs": [],
   "source": [
    "vectorstore_from_directory = Chroma(persist_directory = \"./intro-to-ds-lectures\", \n",
    "                                    embedding_function = embedding)"
   ]
  },
  {
   "cell_type": "code",
   "execution_count": null,
   "id": "a91ea6e6",
   "metadata": {},
   "outputs": [],
   "source": [
    "vectorstore_from_directory.get(ids = \"00829d7d-4ad7-4f83-93c2-1c606f3c14bf\", \n",
    "                               include = [\"embeddings\"])"
   ]
  },
  {
   "cell_type": "code",
   "execution_count": null,
   "id": "c87368be",
   "metadata": {},
   "outputs": [],
   "source": [
    "added_document = Document(page_content='Alright! So… Let’s discuss the not-so-obvious differences between the terms analysis and analytics. Due to the similarity of the words, some people believe they share the same meaning, and thus use them interchangeably. Technically, this isn’t correct. There is, in fact, a distinct difference between the two. And the reason for one often being used instead of the other is the lack of a transparent understanding of both. So, let’s clear this up, shall we? First, we will start with analysis', \n",
    "                          metadata={'Course Title': 'Introduction to Data and Data Science', \n",
    "                                    'Lecture Title': 'Analysis vs Analytics'})"
   ]
  },
  {
   "cell_type": "code",
   "execution_count": null,
   "id": "f6b2c46d",
   "metadata": {},
   "outputs": [],
   "source": [
    "vectorstore_from_directory.add_documents([added_document])"
   ]
  },
  {
   "cell_type": "code",
   "execution_count": null,
   "id": "db517d41",
   "metadata": {},
   "outputs": [],
   "source": [
    "vectorstore_from_directory.get(\"55409552-1943-4892-949a-3b475ff9c840\")"
   ]
  },
  {
   "cell_type": "code",
   "execution_count": null,
   "id": "43eba571",
   "metadata": {},
   "outputs": [],
   "source": [
    "updated_document = Document(page_content='Great! We hope we gave you a good idea about the level of applicability of the most frequently used programming and software tools in the field of data science. Thank you for watching!', \n",
    "                            metadata={'Course Title': 'Introduction to Data and Data Science', \n",
    "                                     'Lecture Title': 'Programming Languages & Software Employed in Data Science - All the Tools You Need'})"
   ]
  },
  {
   "cell_type": "code",
   "execution_count": null,
   "id": "834ce920",
   "metadata": {},
   "outputs": [],
   "source": [
    "vectorstore_from_directory.update_document(document_id = \"55409552-1943-4892-949a-3b475ff9c840\", \n",
    "                                           document = updated_document)"
   ]
  },
  {
   "cell_type": "code",
   "execution_count": null,
   "id": "7c198988",
   "metadata": {},
   "outputs": [],
   "source": [
    "vectorstore_from_directory.get(\"55409552-1943-4892-949a-3b475ff9c840\")"
   ]
  },
  {
   "cell_type": "code",
   "execution_count": null,
   "id": "6bb80a70",
   "metadata": {},
   "outputs": [],
   "source": [
    "vectorstore_from_directory.delete(\"55409552-1943-4892-949a-3b475ff9c840\")"
   ]
  },
  {
   "cell_type": "code",
   "execution_count": null,
   "id": "b349839c",
   "metadata": {},
   "outputs": [],
   "source": [
    "vectorstore_from_directory.get(\"55409552-1943-4892-949a-3b475ff9c840\")"
   ]
  },
  {
   "cell_type": "code",
   "execution_count": null,
   "id": "70aef855",
   "metadata": {},
   "outputs": [],
   "source": []
  },
  {
   "cell_type": "code",
   "execution_count": null,
   "id": "7fa1049b",
   "metadata": {},
   "outputs": [],
   "source": []
  }
 ],
 "metadata": {
  "kernelspec": {
   "display_name": "langchain_env",
   "language": "python",
   "name": "langchain_env"
  },
  "language_info": {
   "codemirror_mode": {
    "name": "ipython",
    "version": 3
   },
   "file_extension": ".py",
   "mimetype": "text/x-python",
   "name": "python",
   "nbconvert_exporter": "python",
   "pygments_lexer": "ipython3",
   "version": "3.10.10"
  }
 },
 "nbformat": 4,
 "nbformat_minor": 5
}
