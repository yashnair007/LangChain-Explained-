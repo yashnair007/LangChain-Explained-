{
 "cells": [
  {
   "cell_type": "markdown",
   "id": "c9094617",
   "metadata": {},
   "source": [
    "# Chat Prompt Templates and Chat Prompt Values"
   ]
  },
  {
   "cell_type": "code",
   "execution_count": null,
   "id": "c937ff57-4974-461b-9cfd-32957cf21736",
   "metadata": {},
   "outputs": [],
   "source": [
    "# Run the line of code below to check the version of langchain in the current environment.\n",
    "# Substitute \"langchain\" with any other package name to check their version."
   ]
  },
  {
   "cell_type": "code",
   "execution_count": null,
   "id": "40720295-6930-473f-a9a4-1c740a0865f6",
   "metadata": {},
   "outputs": [],
   "source": [
    "pip show langchain"
   ]
  },
  {
   "cell_type": "code",
   "execution_count": null,
   "id": "e6771a48",
   "metadata": {},
   "outputs": [],
   "source": [
    "%load_ext dotenv\n",
    "%dotenv"
   ]
  },
  {
   "cell_type": "code",
   "execution_count": null,
   "id": "952f6013",
   "metadata": {},
   "outputs": [],
   "source": [
    "from langchain_openai.chat_models import ChatOpenAI\n",
    "\n",
    "from langchain_core.prompts.chat import (SystemMessagePromptTemplate,\n",
    "                                         HumanMessagePromptTemplate,\n",
    "                                         ChatPromptTemplate)"
   ]
  },
  {
   "cell_type": "code",
   "execution_count": null,
   "id": "866442fc",
   "metadata": {},
   "outputs": [],
   "source": [
    "chat = ChatOpenAI(model_name = 'gpt-4', \n",
    "                  model_kwargs = {'seed':365},\n",
    "                  temperature = 0,\n",
    "                  max_tokens = 100)"
   ]
  },
  {
   "cell_type": "code",
   "execution_count": null,
   "id": "e4ed3798",
   "metadata": {},
   "outputs": [],
   "source": [
    "TEMPLATE_S = '{description}'\n",
    "TEMPLATE_H = '''I've recently adopted a {pet}. \n",
    "Could you suggest some {pet} names?'''\n",
    "\n",
    "message_template_s = SystemMessagePromptTemplate.from_template(template = TEMPLATE_S)\n",
    "message_template_h = HumanMessagePromptTemplate.from_template(template = TEMPLATE_H)"
   ]
  },
  {
   "cell_type": "code",
   "execution_count": null,
   "id": "2ec4dd4e",
   "metadata": {},
   "outputs": [],
   "source": [
    "message_template_h"
   ]
  },
  {
   "cell_type": "code",
   "execution_count": null,
   "id": "bfe00128",
   "metadata": {},
   "outputs": [],
   "source": [
    "chat_template = ChatPromptTemplate.from_messages([message_template_s, message_template_h])"
   ]
  },
  {
   "cell_type": "code",
   "execution_count": null,
   "id": "93b7ed5e",
   "metadata": {},
   "outputs": [],
   "source": [
    "chat_template"
   ]
  },
  {
   "cell_type": "code",
   "execution_count": null,
   "id": "f223da93",
   "metadata": {},
   "outputs": [],
   "source": [
    "chat_value = chat_template.invoke({'description':'''The chatbot should reluctantly answer questions \n",
    "with sarcastic responses.''', \n",
    "                                   'pet':'''dog'''})"
   ]
  },
  {
   "cell_type": "code",
   "execution_count": null,
   "id": "245427d5",
   "metadata": {},
   "outputs": [],
   "source": [
    "chat_value"
   ]
  },
  {
   "cell_type": "code",
   "execution_count": null,
   "id": "f5d033c9",
   "metadata": {},
   "outputs": [],
   "source": [
    "response = chat.invoke(chat_value)"
   ]
  },
  {
   "cell_type": "code",
   "execution_count": null,
   "id": "c10de393",
   "metadata": {},
   "outputs": [],
   "source": [
    "response"
   ]
  },
  {
   "cell_type": "code",
   "execution_count": null,
   "id": "76b59a6e",
   "metadata": {},
   "outputs": [],
   "source": []
  },
  {
   "cell_type": "code",
   "execution_count": null,
   "id": "15fce710",
   "metadata": {},
   "outputs": [],
   "source": []
  },
  {
   "cell_type": "code",
   "execution_count": null,
   "id": "8c46aa7d",
   "metadata": {},
   "outputs": [],
   "source": []
  }
 ],
 "metadata": {
  "kernelspec": {
   "display_name": "langchain_env_test",
   "language": "python",
   "name": "langchain_env_test"
  },
  "language_info": {
   "codemirror_mode": {
    "name": "ipython",
    "version": 3
   },
   "file_extension": ".py",
   "mimetype": "text/x-python",
   "name": "python",
   "nbconvert_exporter": "python",
   "pygments_lexer": "ipython3",
   "version": "3.10.10"
  }
 },
 "nbformat": 4,
 "nbformat_minor": 5
}
