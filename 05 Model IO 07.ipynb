{
 "cells": [
  {
   "cell_type": "markdown",
   "id": "8ef0304d",
   "metadata": {},
   "source": [
    "# Few-Shot Chat Message Prompt Templates"
   ]
  },
  {
   "cell_type": "code",
   "execution_count": null,
   "id": "aa72f7db-f406-4507-b0dd-31091ea3ae77",
   "metadata": {},
   "outputs": [],
   "source": [
    "# Run the line of code below to check the version of langchain in the current environment.\n",
    "# Substitute \"langchain\" with any other package name to check their version."
   ]
  },
  {
   "cell_type": "code",
   "execution_count": null,
   "id": "e6c1fe70-9d57-48cc-82d0-2133b9722be8",
   "metadata": {},
   "outputs": [],
   "source": [
    "pip show langchain"
   ]
  },
  {
   "cell_type": "code",
   "execution_count": null,
   "id": "1b94e291",
   "metadata": {},
   "outputs": [],
   "source": [
    "%load_ext dotenv\n",
    "%dotenv"
   ]
  },
  {
   "cell_type": "code",
   "execution_count": null,
   "id": "fb1da3b8",
   "metadata": {},
   "outputs": [],
   "source": [
    "from langchain_openai.chat_models import ChatOpenAI\n",
    "\n",
    "from langchain_core.prompts import (ChatPromptTemplate,\n",
    "                                    HumanMessagePromptTemplate, \n",
    "                                    AIMessagePromptTemplate, \n",
    "                                    FewShotChatMessagePromptTemplate)"
   ]
  },
  {
   "cell_type": "code",
   "execution_count": null,
   "id": "13dd4d74",
   "metadata": {},
   "outputs": [],
   "source": [
    "chat = ChatOpenAI(model_name = 'gpt-4', \n",
    "                  model_kwargs = {'seed':365},\n",
    "                  temperature = 0,\n",
    "                  max_tokens = 100)"
   ]
  },
  {
   "cell_type": "code",
   "execution_count": null,
   "id": "c1b37090",
   "metadata": {},
   "outputs": [],
   "source": [
    "TEMPLATE_H = '''I've recently adopted a {pet}. \n",
    "Could you suggest some {pet} names?'''\n",
    "TEMPLATE_AI = '''{response}'''\n",
    "\n",
    "message_template_h = HumanMessagePromptTemplate.from_template(template = TEMPLATE_H)\n",
    "message_template_ai = AIMessagePromptTemplate.from_template(template = TEMPLATE_AI)"
   ]
  },
  {
   "cell_type": "code",
   "execution_count": null,
   "id": "4fd72c7c",
   "metadata": {},
   "outputs": [],
   "source": [
    "example_template = ChatPromptTemplate.from_messages([message_template_h, \n",
    "                                                     message_template_ai])"
   ]
  },
  {
   "cell_type": "code",
   "execution_count": null,
   "id": "ee667ded",
   "metadata": {},
   "outputs": [],
   "source": [
    "examples = [{'pet':'dog', \n",
    "             'response':'''Oh, absolutely. Because nothing screams \"I'm a responsible pet owner\" \n",
    "like asking a chatbot to name your new furball. How about \"Bark Twain\" (if it's a literary hound)? '''}, \n",
    "            \n",
    "            {'pet':'cat', \n",
    "             'response':'''Oh, absolutely. Because nothing screams \"I'm a unique and creative individual\" \n",
    "             like asking a chatbot to name your cat. How about \"Furry McFurFace\", \"Sir Meowsalot\", or \"Catastrophe\"? '''}, \n",
    "            \n",
    "            {'pet':'fish', \n",
    "             'response':\n",
    "             '''Oh, absolutely. Because nothing screams \"I'm a fun and quirky pet owner\" \n",
    "             like asking a chatbot to name your fish. How about \"Fin Diesel\", \"Gill Gates\", or \"Bubbles\"?'''}]"
   ]
  },
  {
   "cell_type": "code",
   "execution_count": null,
   "id": "009179db",
   "metadata": {},
   "outputs": [],
   "source": [
    "few_shot_prompt = FewShotChatMessagePromptTemplate(examples = examples, \n",
    "                                                   example_prompt = example_template, \n",
    "                                                   input_variables = ['pet'])"
   ]
  },
  {
   "cell_type": "code",
   "execution_count": null,
   "id": "230d63c2",
   "metadata": {},
   "outputs": [],
   "source": [
    "chat_template = ChatPromptTemplate.from_messages([few_shot_prompt, \n",
    "                                                  message_template_h])"
   ]
  },
  {
   "cell_type": "code",
   "execution_count": null,
   "id": "68af67e7",
   "metadata": {},
   "outputs": [],
   "source": [
    "chat_value = chat_template.invoke({'pet':'rabbit'})"
   ]
  },
  {
   "cell_type": "code",
   "execution_count": null,
   "id": "fd2af8da",
   "metadata": {},
   "outputs": [],
   "source": [
    "chat_value"
   ]
  },
  {
   "cell_type": "code",
   "execution_count": null,
   "id": "7b4138c7",
   "metadata": {},
   "outputs": [],
   "source": [
    "for i in chat_value.messages:\n",
    "    print(f'{i.type}: {i.content}\\n')"
   ]
  },
  {
   "cell_type": "code",
   "execution_count": null,
   "id": "3099e4bd",
   "metadata": {},
   "outputs": [],
   "source": [
    "response = chat.invoke(chat_value)"
   ]
  },
  {
   "cell_type": "code",
   "execution_count": null,
   "id": "3b93547c",
   "metadata": {},
   "outputs": [],
   "source": [
    "response"
   ]
  },
  {
   "cell_type": "code",
   "execution_count": null,
   "id": "b35c73bb",
   "metadata": {},
   "outputs": [],
   "source": [
    "print(response.content)"
   ]
  },
  {
   "cell_type": "code",
   "execution_count": null,
   "id": "a4f2ff52",
   "metadata": {},
   "outputs": [],
   "source": []
  },
  {
   "cell_type": "code",
   "execution_count": null,
   "id": "6a290916",
   "metadata": {},
   "outputs": [],
   "source": []
  }
 ],
 "metadata": {
  "kernelspec": {
   "display_name": "langchain_env",
   "language": "python",
   "name": "langchain_env"
  },
  "language_info": {
   "codemirror_mode": {
    "name": "ipython",
    "version": 3
   },
   "file_extension": ".py",
   "mimetype": "text/x-python",
   "name": "python",
   "nbconvert_exporter": "python",
   "pygments_lexer": "ipython3",
   "version": "3.10.10"
  }
 },
 "nbformat": 4,
 "nbformat_minor": 5
}
