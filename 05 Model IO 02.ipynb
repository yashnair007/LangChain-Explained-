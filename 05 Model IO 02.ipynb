{
 "cells": [
  {
   "cell_type": "markdown",
   "id": "a736bed8",
   "metadata": {},
   "source": [
    "# ChatOpenAI"
   ]
  },
  {
   "cell_type": "code",
   "execution_count": null,
   "id": "35ae3030",
   "metadata": {},
   "outputs": [],
   "source": [
    "# Run the line of code below to check the version of langchain in the current environment.\n",
    "# Substitute \"langchain\" with any other package name to check their version."
   ]
  },
  {
   "cell_type": "code",
   "execution_count": null,
   "id": "bde22604-7e3f-4eda-a1e5-ef68536d25ee",
   "metadata": {},
   "outputs": [],
   "source": [
    "pip show langchain"
   ]
  },
  {
   "cell_type": "code",
   "execution_count": null,
   "id": "d677a6b4",
   "metadata": {},
   "outputs": [],
   "source": [
    "%load_ext dotenv\n",
    "%dotenv"
   ]
  },
  {
   "cell_type": "code",
   "execution_count": null,
   "id": "8926c859",
   "metadata": {},
   "outputs": [],
   "source": [
    "from langchain_openai.chat_models import ChatOpenAI"
   ]
  },
  {
   "cell_type": "code",
   "execution_count": null,
   "id": "7d40a418",
   "metadata": {},
   "outputs": [],
   "source": [
    "chat = ChatOpenAI(model_name = 'gpt-4', \n",
    "                  model_kwargs = {'seed':365}, \n",
    "                  temperature = 0, \n",
    "                  max_tokens = 100)"
   ]
  },
  {
   "cell_type": "code",
   "execution_count": null,
   "id": "ea4da69b",
   "metadata": {},
   "outputs": [],
   "source": [
    "response = chat.invoke(''' I've recently adopted a dog. Could you suggest some dog names? ''')"
   ]
  },
  {
   "cell_type": "code",
   "execution_count": null,
   "id": "49c91973",
   "metadata": {},
   "outputs": [],
   "source": [
    "''' I've recently adopted a dog. \n",
    "Could you suggest some dog names? '''\n",
    "\n",
    "\"\"\" I've recently adopted a dog. \n",
    "Could you suggest some dog names? \"\"\""
   ]
  },
  {
   "cell_type": "code",
   "execution_count": null,
   "id": "d56a50b2",
   "metadata": {},
   "outputs": [],
   "source": [
    "print(response.content)"
   ]
  },
  {
   "cell_type": "code",
   "execution_count": null,
   "id": "1c4627bc",
   "metadata": {},
   "outputs": [],
   "source": []
  },
  {
   "cell_type": "code",
   "execution_count": null,
   "id": "4abe290d",
   "metadata": {},
   "outputs": [],
   "source": []
  }
 ],
 "metadata": {
  "kernelspec": {
   "display_name": "langchain_env_test",
   "language": "python",
   "name": "langchain_env_test"
  },
  "language_info": {
   "codemirror_mode": {
    "name": "ipython",
    "version": 3
   },
   "file_extension": ".py",
   "mimetype": "text/x-python",
   "name": "python",
   "nbconvert_exporter": "python",
   "pygments_lexer": "ipython3",
   "version": "3.10.10"
  }
 },
 "nbformat": 4,
 "nbformat_minor": 5
}
