{
 "cells": [
  {
   "cell_type": "markdown",
   "id": "56a71530",
   "metadata": {},
   "source": [
    "# Indexing: Text Embedding with OpenAI"
   ]
  },
  {
   "cell_type": "code",
   "execution_count": null,
   "id": "72b839af-f162-4cc7-89cb-d7f22c926101",
   "metadata": {},
   "outputs": [],
   "source": [
    "# Run the line of code below to check the version of langchain in the current environment.\n",
    "# Substitute \"langchain\" with any other package name to check their version."
   ]
  },
  {
   "cell_type": "code",
   "execution_count": null,
   "id": "3626a77b-57ea-462c-ad0b-aee2171c9ba1",
   "metadata": {},
   "outputs": [],
   "source": [
    "pip show langchain"
   ]
  },
  {
   "cell_type": "code",
   "execution_count": null,
   "id": "4f9b5d20",
   "metadata": {},
   "outputs": [],
   "source": [
    "%load_ext dotenv\n",
    "%dotenv"
   ]
  },
  {
   "cell_type": "code",
   "execution_count": null,
   "id": "30e0381d",
   "metadata": {},
   "outputs": [],
   "source": [
    "from langchain_community.document_loaders import Docx2txtLoader\n",
    "from langchain_text_splitters.markdown import MarkdownHeaderTextSplitter\n",
    "from langchain_text_splitters.character import CharacterTextSplitter\n",
    "from langchain_openai.embeddings import OpenAIEmbeddings\n",
    "import numpy as np"
   ]
  },
  {
   "cell_type": "code",
   "execution_count": null,
   "id": "67cc854d",
   "metadata": {},
   "outputs": [],
   "source": [
    "loader_docx = Docx2txtLoader(\"Introduction_to_Data_and_Data_Science_2.docx\")\n",
    "pages = loader_docx.load()\n",
    "\n",
    "md_splitter = MarkdownHeaderTextSplitter(\n",
    "    headers_to_split_on = [(\"#\", \"Course Title\"), \n",
    "                           (\"##\", \"Lecture Title\")]\n",
    ")\n",
    "\n",
    "pages_md_split = md_splitter.split_text(pages[0].page_content)\n",
    "\n",
    "for i in range(len(pages_md_split)):\n",
    "    pages_md_split[i].page_content = ' '.join(pages_md_split[i].page_content.split())\n",
    "    \n",
    "char_splitter = CharacterTextSplitter(\n",
    "    separator = \".\",\n",
    "    chunk_size = 500,\n",
    "    chunk_overlap  = 50\n",
    ")\n",
    "\n",
    "pages_char_split = char_splitter.split_documents(pages_md_split)"
   ]
  },
  {
   "cell_type": "code",
   "execution_count": null,
   "id": "623bebcf",
   "metadata": {
    "scrolled": true
   },
   "outputs": [],
   "source": [
    "pages_char_split"
   ]
  },
  {
   "cell_type": "code",
   "execution_count": null,
   "id": "6a65ba9a",
   "metadata": {},
   "outputs": [],
   "source": [
    "embedding = OpenAIEmbeddings(model = \"text-embedding-ada-002\")"
   ]
  },
  {
   "cell_type": "code",
   "execution_count": null,
   "id": "3c512d14",
   "metadata": {},
   "outputs": [],
   "source": [
    "pages_char_split[18]"
   ]
  },
  {
   "cell_type": "code",
   "execution_count": null,
   "id": "ad56f540",
   "metadata": {},
   "outputs": [],
   "source": [
    "vector1 = embedding.embed_query(pages_char_split[3].page_content)\n",
    "vector2 = embedding.embed_query(pages_char_split[5].page_content)\n",
    "vector3 = embedding.embed_query(pages_char_split[18].page_content)"
   ]
  },
  {
   "cell_type": "code",
   "execution_count": null,
   "id": "20aa1603",
   "metadata": {},
   "outputs": [],
   "source": [
    "len(vector1), len(vector2), len(vector3)"
   ]
  },
  {
   "cell_type": "code",
   "execution_count": null,
   "id": "e942e38c",
   "metadata": {},
   "outputs": [],
   "source": [
    "np.dot(vector1, vector2), np.dot(vector1, vector3), np.dot(vector2, vector3)"
   ]
  },
  {
   "cell_type": "code",
   "execution_count": null,
   "id": "00fe9a59",
   "metadata": {},
   "outputs": [],
   "source": [
    "np.linalg.norm(vector1), np.linalg.norm(vector2), np.linalg.norm(vector3)"
   ]
  },
  {
   "cell_type": "code",
   "execution_count": null,
   "id": "390e8dcc",
   "metadata": {},
   "outputs": [],
   "source": []
  },
  {
   "cell_type": "code",
   "execution_count": null,
   "id": "ff5b64e6",
   "metadata": {},
   "outputs": [],
   "source": []
  }
 ],
 "metadata": {
  "kernelspec": {
   "display_name": "langchain_env",
   "language": "python",
   "name": "langchain_env"
  },
  "language_info": {
   "codemirror_mode": {
    "name": "ipython",
    "version": 3
   },
   "file_extension": ".py",
   "mimetype": "text/x-python",
   "name": "python",
   "nbconvert_exporter": "python",
   "pygments_lexer": "ipython3",
   "version": "3.10.10"
  }
 },
 "nbformat": 4,
 "nbformat_minor": 5
}
