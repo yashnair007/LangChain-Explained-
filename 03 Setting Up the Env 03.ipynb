{
 "cells": [
  {
   "cell_type": "markdown",
   "id": "f67efe04-0d27-4710-a3c0-a405cd80c46d",
   "metadata": {},
   "source": [
    "# Setting the API Key as an Environment Variable"
   ]
  },
  {
   "cell_type": "markdown",
   "id": "9abf8d8f-fcdc-473d-a90d-31a3f78d25ec",
   "metadata": {},
   "source": [
    "In the previous lesson, we logged into OpenAI’s website, generated a personal API key, and saved it locally in a text file. \n",
    "We’ll learn how to set this API key as an environment variable, which will soon be used to communicate with the OpenAI library.\n",
    "\n",
    "First, let’s delve into the concept of environment variables. \n",
    "\n",
    "An environment variable is a key-value pair used by the operating system, with the key corresponding to the name of the variable while the value representing—in our case, the OpenAI API key. The key and the value are typically stored as strings. \n",
    "\n",
    "A classic example is the PATH environment variable, which stores a list of directories where executable programs are located—enabling the operating system to find these programs when needed. \n",
    "Another typical example is the HOME or HOMEPATH environment variable—storing the path to the user’s home directory. \n",
    "\n",
    "Environment variables are essential for protecting such sensitive data as API keys. For example, the OpenAI API key—a required credential for accessing the OpenAI services—should not be exposed within the code. \n",
    "Hardcoding its value risks unintended exposure, such as when you share your code with friends or colleagues. This is a critical security issue because invoking OpenAI’s models through the API corresponds to using tokens, a paid service. \n",
    "By providing your API key to others, you make it possible for them to spend the tokens **you** are paying for. If you notice abnormal behavior that doesn’t match your token usage, revoke the API key immediately and generate a new one. Doing so makes the old API key invalid. \n",
    "\n",
    "Setting the API key as an environment variable and ensuring its confidentiality can prevent this. \n",
    "Moreover, storing the API key as an environment variable enables you to update it and seamlessly propagate that change across all source code files, thereby maintaining a clean code.\n",
    "\n",
    "All right, it's time we get to coding! \n",
    "\n",
    "First, ensure you've selected the **langchain_env** kernel in the Jupyter notebook. You can see the kernel that is currently used in the top-right corner. You can change the kernel by navigating to 'Kernel' in the ribbon menu. Then, select 'Change kernel' from the drop-down menu and choose the appropriate one.\n",
    "\n",
    "Next, ensure the notebook and the text file storing your key are in the same directory, i.e., in the same folder. Open the text file and write the following text:\n",
    "OPENAI_API_KEY=\"...\"\n",
    "\n",
    "In place of the three dots, insert your API key, such that the content of the text file looks as follows:\n",
    "OPENAI_API_KEY=\"sk-...\"\n",
    "\n",
    "Save the text file, close it, and rename it ‘.env’\n",
    "\n",
    "Now, let’s use IPython ’s magic commands to load the environment variable stored in the text file. \n",
    "Use the **%load_ext** command to load an extension. The one we need is **dotenv**. "
   ]
  },
  {
   "cell_type": "code",
   "execution_count": null,
   "id": "430ae9c4-871d-48e6-80fa-6def9d44f6dc",
   "metadata": {},
   "outputs": [],
   "source": [
    "%load_ext dotenv"
   ]
  },
  {
   "cell_type": "markdown",
   "id": "94419216",
   "metadata": {},
   "source": [
    "Use the **dotenv** magic command to read the key-value pair stored in the text file and set it as an environment variable. "
   ]
  },
  {
   "cell_type": "code",
   "execution_count": null,
   "id": "e813cb6e-7a62-48ae-8296-652c60272488",
   "metadata": {},
   "outputs": [],
   "source": [
    "%dotenv"
   ]
  },
  {
   "cell_type": "markdown",
   "id": "78d71803",
   "metadata": {},
   "source": [
    "All right. \n",
    "You are now prepared to move forward to the exciting bit of the practical part: creating our first chatbot with OpenAI. \n",
    "Can’t wait to see you in the next lesson!"
   ]
  },
  {
   "cell_type": "code",
   "execution_count": null,
   "id": "186c2b99-7282-4ff1-909a-a0bf0654f2bb",
   "metadata": {},
   "outputs": [],
   "source": []
  },
  {
   "cell_type": "code",
   "execution_count": null,
   "id": "f46d18f5-bc4c-4355-93ab-89387ff06dc2",
   "metadata": {},
   "outputs": [],
   "source": []
  }
 ],
 "metadata": {
  "kernelspec": {
   "display_name": "langchain_env",
   "language": "python",
   "name": "langchain_env"
  },
  "language_info": {
   "codemirror_mode": {
    "name": "ipython",
    "version": 3
   },
   "file_extension": ".py",
   "mimetype": "text/x-python",
   "name": "python",
   "nbconvert_exporter": "python",
   "pygments_lexer": "ipython3",
   "version": "3.10.10"
  }
 },
 "nbformat": 4,
 "nbformat_minor": 5
}
