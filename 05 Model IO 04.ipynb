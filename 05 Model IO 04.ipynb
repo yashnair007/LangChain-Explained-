{
 "cells": [
  {
   "cell_type": "markdown",
   "id": "c82f0434",
   "metadata": {},
   "source": [
    "# AI Messages"
   ]
  },
  {
   "cell_type": "code",
   "execution_count": null,
   "id": "2b410b1d-91f5-4834-b113-5a6fc85491f4",
   "metadata": {},
   "outputs": [],
   "source": [
    "# Run the line of code below to check the version of langchain in the current environment.\n",
    "# Substitute \"langchain\" with any other package name to check their version."
   ]
  },
  {
   "cell_type": "code",
   "execution_count": null,
   "id": "21986d1e-0edc-4a61-813a-3093dc9603da",
   "metadata": {},
   "outputs": [],
   "source": [
    "pip show langchain"
   ]
  },
  {
   "cell_type": "code",
   "execution_count": null,
   "id": "161a111a",
   "metadata": {},
   "outputs": [],
   "source": [
    "%load_ext dotenv\n",
    "%dotenv"
   ]
  },
  {
   "cell_type": "code",
   "execution_count": null,
   "id": "0e87efdb",
   "metadata": {},
   "outputs": [],
   "source": [
    "from langchain_openai.chat_models import ChatOpenAI\n",
    "\n",
    "from langchain_core.messages import HumanMessage, AIMessage"
   ]
  },
  {
   "cell_type": "code",
   "execution_count": null,
   "id": "8049ac59",
   "metadata": {},
   "outputs": [],
   "source": [
    "chat = ChatOpenAI(model_name = 'gpt-4', \n",
    "                  model_kwargs = {'seed':365},\n",
    "                  temperature = 0,\n",
    "                  max_tokens = 100)"
   ]
  },
  {
   "cell_type": "code",
   "execution_count": null,
   "id": "de753cec",
   "metadata": {},
   "outputs": [],
   "source": [
    "message_h_dog = HumanMessage(content = ''' I've recently adopted a dog. Can you suggest some dog names? ''')\n",
    "message_ai_dog = AIMessage(content = ''' Oh, absolutely. Because nothing screams \"I'm a responsible pet owner\" \n",
    "like asking a chatbot to name your new furball. How about \"Bark Twain\" (if it's a literary hound)? ''')\n",
    "\n",
    "message_h_cat = HumanMessage(content = ''' I've recently adopted a cat. Can you suggest some cat names? ''')\n",
    "message_ai_cat = AIMessage(content = ''' Oh, absolutely. Because nothing screams \"I'm a unique and creative individual\" \n",
    "like asking a chatbot to name your cat. How about \"Furry McFurFace\", \"Sir Meowsalot\", or \"Catastrophe\"? ''')\n",
    "\n",
    "message_h_fish = HumanMessage(content = ''' I've recently adopted a fish. Can you suggest some fish names? ''')"
   ]
  },
  {
   "cell_type": "code",
   "execution_count": null,
   "id": "b0542825",
   "metadata": {},
   "outputs": [],
   "source": [
    "response = chat.invoke([message_h_dog, message_ai_dog, message_h_cat, message_ai_cat, message_h_fish])"
   ]
  },
  {
   "cell_type": "code",
   "execution_count": null,
   "id": "fb7020dc",
   "metadata": {},
   "outputs": [],
   "source": [
    "print(response.content)"
   ]
  },
  {
   "cell_type": "code",
   "execution_count": null,
   "id": "293b9660",
   "metadata": {},
   "outputs": [],
   "source": []
  },
  {
   "cell_type": "code",
   "execution_count": null,
   "id": "19233f27",
   "metadata": {},
   "outputs": [],
   "source": []
  }
 ],
 "metadata": {
  "kernelspec": {
   "display_name": "langchain_env_test",
   "language": "python",
   "name": "langchain_env_test"
  },
  "language_info": {
   "codemirror_mode": {
    "name": "ipython",
    "version": 3
   },
   "file_extension": ".py",
   "mimetype": "text/x-python",
   "name": "python",
   "nbconvert_exporter": "python",
   "pygments_lexer": "ipython3",
   "version": "3.10.10"
  }
 },
 "nbformat": 4,
 "nbformat_minor": 5
}
