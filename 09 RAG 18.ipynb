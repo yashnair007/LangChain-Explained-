{
 "cells": [
  {
   "cell_type": "markdown",
   "id": "08370560",
   "metadata": {},
   "source": [
    "# Generation: Generating a Response"
   ]
  },
  {
   "cell_type": "code",
   "execution_count": null,
   "id": "72ff3d97-9ebb-45e8-a3a1-9a7a6698a9df",
   "metadata": {},
   "outputs": [],
   "source": [
    "# Run the line of code below to check the version of langchain in the current environment.\n",
    "# Substitute \"langchain\" with any other package name to check their version."
   ]
  },
  {
   "cell_type": "code",
   "execution_count": null,
   "id": "161353df-0b8e-4d3b-aa5f-ea0eddb155d4",
   "metadata": {},
   "outputs": [],
   "source": [
    "pip show langchain"
   ]
  },
  {
   "cell_type": "code",
   "execution_count": null,
   "id": "a43e5f2b",
   "metadata": {},
   "outputs": [],
   "source": [
    "%load_ext dotenv\n",
    "%dotenv"
   ]
  },
  {
   "cell_type": "code",
   "execution_count": null,
   "id": "65aff843",
   "metadata": {},
   "outputs": [],
   "source": [
    "from langchain_openai.embeddings import OpenAIEmbeddings\n",
    "from langchain_community.vectorstores import Chroma\n",
    "from langchain_core.prompts import PromptTemplate\n",
    "from langchain_openai import ChatOpenAI\n",
    "from langchain_core.runnables import RunnablePassthrough\n",
    "from langchain_core.runnables import RunnableParallel\n",
    "from langchain_core.output_parsers import StrOutputParser"
   ]
  },
  {
   "cell_type": "code",
   "execution_count": null,
   "id": "370297b5",
   "metadata": {},
   "outputs": [],
   "source": [
    "vectorstore = Chroma(persist_directory = \"./intro-to-ds-lectures\", \n",
    "                     embedding_function = OpenAIEmbeddings(model='text-embedding-ada-002'))"
   ]
  },
  {
   "cell_type": "code",
   "execution_count": null,
   "id": "2516c9f9",
   "metadata": {},
   "outputs": [],
   "source": [
    "len(vectorstore.get()['documents'])"
   ]
  },
  {
   "cell_type": "code",
   "execution_count": null,
   "id": "7c47c172",
   "metadata": {},
   "outputs": [],
   "source": [
    "retriever = vectorstore.as_retriever(search_type = 'mmr', \n",
    "                                     search_kwargs = {'k':3, \n",
    "                                                      'lambda_mult':0.7})"
   ]
  },
  {
   "cell_type": "code",
   "execution_count": null,
   "id": "a4cc1f0d",
   "metadata": {},
   "outputs": [],
   "source": [
    "TEMPLATE = '''\n",
    "Answer the following question:\n",
    "{question}\n",
    "\n",
    "To answer the question, use only the following context:\n",
    "{context}\n",
    "\n",
    "At the end of the response, specify the name of the lecture this context is taken from in the format:\n",
    "Resources: *Lecture Title*\n",
    "where *Lecture Title* should be substituted with the title of all resource lectures.\n",
    "'''\n",
    "\n",
    "prompt_template = PromptTemplate.from_template(TEMPLATE)"
   ]
  },
  {
   "cell_type": "code",
   "execution_count": null,
   "id": "4d043277",
   "metadata": {},
   "outputs": [],
   "source": [
    "chat = ChatOpenAI(model_name = 'gpt-4', \n",
    "                  model_kwargs = {'seed':365},\n",
    "                  max_tokens = 250)"
   ]
  },
  {
   "cell_type": "code",
   "execution_count": null,
   "id": "b73a3fa1",
   "metadata": {},
   "outputs": [],
   "source": [
    "question = \"What software do data scientists use?\""
   ]
  },
  {
   "cell_type": "code",
   "execution_count": null,
   "id": "8e98ec09",
   "metadata": {},
   "outputs": [],
   "source": [
    "chain = ({'context': retriever, \n",
    "         'question': RunnablePassthrough()} \n",
    "         | prompt_template \n",
    "         | chat \n",
    "         | StrOutputParser())"
   ]
  },
  {
   "cell_type": "code",
   "execution_count": null,
   "id": "1d96f693",
   "metadata": {},
   "outputs": [],
   "source": [
    "chain.invoke(question)"
   ]
  },
  {
   "cell_type": "code",
   "execution_count": null,
   "id": "26d1c4ac",
   "metadata": {},
   "outputs": [],
   "source": [
    "print('Data scientists use a variety of software tools. R and Python are the two most popular tools as they can manipulate data and are integrated within multiple data and data science software platforms. They are adaptable and can solve a wide range of business and data-related problems. Hadoop is a software framework designed to handle the complexity and computational intensity of big data by distributing computational tasks on multiple computers. Additionally, Power BI, SaS, Qlik, and Tableau are top-notch examples of software designed for business intelligence visualizations.\\n\\nResources: Programming Languages & Software Employed in Data Science - All the Tools You Need')"
   ]
  },
  {
   "cell_type": "code",
   "execution_count": null,
   "id": "c971acbd",
   "metadata": {},
   "outputs": [],
   "source": []
  },
  {
   "cell_type": "code",
   "execution_count": null,
   "id": "7377ee39",
   "metadata": {},
   "outputs": [],
   "source": []
  }
 ],
 "metadata": {
  "kernelspec": {
   "display_name": "langchain_env",
   "language": "python",
   "name": "langchain_env"
  },
  "language_info": {
   "codemirror_mode": {
    "name": "ipython",
    "version": 3
   },
   "file_extension": ".py",
   "mimetype": "text/x-python",
   "name": "python",
   "nbconvert_exporter": "python",
   "pygments_lexer": "ipython3",
   "version": "3.10.10"
  }
 },
 "nbformat": 4,
 "nbformat_minor": 5
}
