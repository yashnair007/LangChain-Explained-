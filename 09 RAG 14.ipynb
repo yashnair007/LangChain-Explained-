{
 "cells": [
  {
   "cell_type": "markdown",
   "id": "d7c97306",
   "metadata": {},
   "source": [
    "# Retrieval: Similarity Search"
   ]
  },
  {
   "cell_type": "code",
   "execution_count": null,
   "id": "5a370010-248b-48ea-81e4-f8ef55264e96",
   "metadata": {},
   "outputs": [],
   "source": [
    "# Run the line of code below to check the version of langchain in the current environment.\n",
    "# Substitute \"langchain\" with any other package name to check their version."
   ]
  },
  {
   "cell_type": "code",
   "execution_count": null,
   "id": "554032e7-4e57-49f3-bded-72af3b735b38",
   "metadata": {},
   "outputs": [],
   "source": [
    "pip show langchain"
   ]
  },
  {
   "cell_type": "code",
   "execution_count": null,
   "id": "78d44b84",
   "metadata": {},
   "outputs": [],
   "source": [
    "%load_ext dotenv\n",
    "%dotenv"
   ]
  },
  {
   "cell_type": "code",
   "execution_count": null,
   "id": "d0642bfa",
   "metadata": {},
   "outputs": [],
   "source": [
    "from langchain_openai.embeddings import OpenAIEmbeddings\n",
    "from langchain_community.vectorstores import Chroma\n",
    "from langchain_core.documents import Document"
   ]
  },
  {
   "cell_type": "code",
   "execution_count": null,
   "id": "4517bf10",
   "metadata": {},
   "outputs": [],
   "source": [
    "embedding = OpenAIEmbeddings(model='text-embedding-ada-002')"
   ]
  },
  {
   "cell_type": "code",
   "execution_count": null,
   "id": "03008679",
   "metadata": {},
   "outputs": [],
   "source": [
    "vectorstore = Chroma(persist_directory = \"./intro-to-ds-lectures\", \n",
    "                     embedding_function = embedding)"
   ]
  },
  {
   "cell_type": "code",
   "execution_count": null,
   "id": "8a810149",
   "metadata": {},
   "outputs": [],
   "source": [
    "added_document = Document(page_content='Alright! So… How are the techniques used in data, business intelligence, or predictive analytics applied in real life? Certainly, with the help of computers. You can basically split the relevant tools into two categories—programming languages and software. Knowing a programming language enables you to devise programs that can execute specific operations. Moreover, you can reuse these programs whenever you need to execute the same action', \n",
    "                          metadata={'Course Title': 'Introduction to Data and Data Science', \n",
    "                                    'Lecture Title': 'Programming Languages & Software Employed in Data Science - All the Tools You Need'})"
   ]
  },
  {
   "cell_type": "code",
   "execution_count": null,
   "id": "c7ec55af",
   "metadata": {},
   "outputs": [],
   "source": [
    "vectorstore.add_documents([added_document])"
   ]
  },
  {
   "cell_type": "code",
   "execution_count": null,
   "id": "d5d53270",
   "metadata": {},
   "outputs": [],
   "source": [
    "question = \"What programming languages do data scientists use?\""
   ]
  },
  {
   "cell_type": "code",
   "execution_count": null,
   "id": "f29bee21",
   "metadata": {},
   "outputs": [],
   "source": [
    "retrieved_docs = vectorstore.similarity_search(query = question, \n",
    "                                               k = 5)"
   ]
  },
  {
   "cell_type": "code",
   "execution_count": null,
   "id": "7af01a2c",
   "metadata": {
    "scrolled": true
   },
   "outputs": [],
   "source": [
    "retrieved_docs"
   ]
  },
  {
   "cell_type": "code",
   "execution_count": null,
   "id": "db8e2c5c",
   "metadata": {},
   "outputs": [],
   "source": [
    "for i in retrieved_docs:\n",
    "    print(f\"Page Content: {i.page_content}\\n----------\\nLecture Title:{i.metadata['Lecture Title']}\\n\")"
   ]
  },
  {
   "cell_type": "code",
   "execution_count": null,
   "id": "59e6e1ca",
   "metadata": {},
   "outputs": [],
   "source": []
  },
  {
   "cell_type": "code",
   "execution_count": null,
   "id": "e3246138",
   "metadata": {},
   "outputs": [],
   "source": []
  }
 ],
 "metadata": {
  "kernelspec": {
   "display_name": "langchain_env",
   "language": "python",
   "name": "langchain_env"
  },
  "language_info": {
   "codemirror_mode": {
    "name": "ipython",
    "version": 3
   },
   "file_extension": ".py",
   "mimetype": "text/x-python",
   "name": "python",
   "nbconvert_exporter": "python",
   "pygments_lexer": "ipython3",
   "version": "3.10.10"
  }
 },
 "nbformat": 4,
 "nbformat_minor": 5
}
