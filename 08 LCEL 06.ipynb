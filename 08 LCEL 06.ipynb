{
 "cells": [
  {
   "cell_type": "markdown",
   "id": "e37dc2e4",
   "metadata": {},
   "source": [
    "# Graphing Runnables"
   ]
  },
  {
   "cell_type": "code",
   "execution_count": null,
   "id": "5567a233-9f2e-4a16-9e4e-d0f63401e695",
   "metadata": {},
   "outputs": [],
   "source": [
    "# Run the line of code below to check the version of langchain in the current environment.\n",
    "# Substitute \"langchain\" with any other package name to check their version."
   ]
  },
  {
   "cell_type": "code",
   "execution_count": null,
   "id": "fed42598-bea0-4735-841f-ffdcf5d116a9",
   "metadata": {},
   "outputs": [],
   "source": [
    "pip show langchain"
   ]
  },
  {
   "cell_type": "code",
   "execution_count": null,
   "id": "8a78bd30",
   "metadata": {},
   "outputs": [],
   "source": [
    "%load_ext dotenv\n",
    "%dotenv"
   ]
  },
  {
   "cell_type": "code",
   "execution_count": null,
   "id": "1906286f",
   "metadata": {},
   "outputs": [],
   "source": [
    "from langchain_core.prompts import ChatPromptTemplate\n",
    "from langchain_openai import ChatOpenAI\n",
    "from langchain_core.output_parsers import StrOutputParser\n",
    "from langchain_core.runnables import RunnablePassthrough"
   ]
  },
  {
   "cell_type": "code",
   "execution_count": null,
   "id": "dd737c48",
   "metadata": {},
   "outputs": [],
   "source": [
    "chat_template_tools = ChatPromptTemplate.from_template('''\n",
    "What are the five most important tools a {job title} needs?\n",
    "Answer only by listing the tools.\n",
    "''')\n",
    "\n",
    "chat_template_strategy = ChatPromptTemplate.from_template('''\n",
    "Considering the tools provided, develop a strategy for effectively learning and mastering them:\n",
    "{tools}\n",
    "''')"
   ]
  },
  {
   "cell_type": "code",
   "execution_count": null,
   "id": "e85495a7",
   "metadata": {},
   "outputs": [],
   "source": [
    "chat = ChatOpenAI(model_name = 'gpt-4', \n",
    "                  model_kwargs = {'seed':365},\n",
    "                  temperature = 0,\n",
    "                  max_tokens = 100)"
   ]
  },
  {
   "cell_type": "code",
   "execution_count": null,
   "id": "2d9f507a",
   "metadata": {},
   "outputs": [],
   "source": [
    "string_parser = StrOutputParser()"
   ]
  },
  {
   "cell_type": "code",
   "execution_count": null,
   "id": "b2beeb72",
   "metadata": {},
   "outputs": [],
   "source": [
    "chain_long = (chat_template_tools | chat | string_parser | {'tools':RunnablePassthrough()} | \n",
    "              chat_template_strategy | chat | string_parser)"
   ]
  },
  {
   "cell_type": "code",
   "execution_count": null,
   "id": "289ac6e3",
   "metadata": {},
   "outputs": [],
   "source": [
    "chain_long.get_graph().print_ascii()"
   ]
  },
  {
   "cell_type": "code",
   "execution_count": null,
   "id": "bf76f587",
   "metadata": {},
   "outputs": [],
   "source": []
  },
  {
   "cell_type": "code",
   "execution_count": null,
   "id": "fdf8415c",
   "metadata": {},
   "outputs": [],
   "source": []
  }
 ],
 "metadata": {
  "kernelspec": {
   "display_name": "langchain_env",
   "language": "python",
   "name": "langchain_env"
  },
  "language_info": {
   "codemirror_mode": {
    "name": "ipython",
    "version": 3
   },
   "file_extension": ".py",
   "mimetype": "text/x-python",
   "name": "python",
   "nbconvert_exporter": "python",
   "pygments_lexer": "ipython3",
   "version": "3.10.10"
  }
 },
 "nbformat": 4,
 "nbformat_minor": 5
}
